{
 "cells": [
  {
   "cell_type": "markdown",
   "metadata": {},
   "source": [
    "# Data Preparation"
   ]
  },
  {
   "cell_type": "code",
   "execution_count": 26,
   "metadata": {},
   "outputs": [],
   "source": [
    "import pandas as pd\n",
    "import yfinance as yf\n",
    "import datetime\n",
    "from dateutil.relativedelta import relativedelta\n",
    "\n",
    "import ta\n",
    "from statistics import mean\n",
    "from sklearn.preprocessing import MinMaxScaler"
   ]
  },
  {
   "cell_type": "code",
   "execution_count": 27,
   "metadata": {},
   "outputs": [],
   "source": [
    "def SMA(df, n, close):\n",
    "    return pd.Series(df[close]).rolling(n).mean()"
   ]
  },
  {
   "cell_type": "code",
   "execution_count": 28,
   "metadata": {},
   "outputs": [],
   "source": [
    "def getdata(sym, sma_value, close):\n",
    "    today = datetime.datetime.now()\n",
    "    df=yf.download(sym, start=datetime.datetime(today.year-2, 1, 1),\n",
    "                   end=datetime.datetime(today.year, today.month, today.day))\n",
    "    pd.set_option('display.max_columns', None)\n",
    "\n",
    "    df = df[['Open','High','Low',close,'Volume']]\n",
    "    df = df.reset_index().rename(columns={'index':'Date'})\n",
    "    df['ticker'] = sym\n",
    "\n",
    "    for i in sma_value:\n",
    "        variable_name = 'sma_' + str(i)\n",
    "        df[variable_name] = SMA(df, i, close)\n",
    "\n",
    "    return df"
   ]
  },
  {
   "cell_type": "code",
   "execution_count": 29,
   "metadata": {},
   "outputs": [
    {
     "name": "stdout",
     "output_type": "stream",
     "text": [
      "[*********************100%***********************]  1 of 1 completed\n"
     ]
    }
   ],
   "source": [
    "df = getdata('NVDA',[20, 50],'Close')"
   ]
  },
  {
   "cell_type": "code",
   "execution_count": 30,
   "metadata": {},
   "outputs": [],
   "source": [
    "df['rsi'] = ta.momentum.rsi(df['Close'])"
   ]
  },
  {
   "cell_type": "code",
   "execution_count": 31,
   "metadata": {},
   "outputs": [],
   "source": [
    "df['macd'] = ta.trend.macd(df['Close'])"
   ]
  },
  {
   "cell_type": "code",
   "execution_count": 32,
   "metadata": {},
   "outputs": [],
   "source": [
    "# Calculate the Bollinger Bands\n",
    "bb = ta.volatility.BollingerBands(close=df['Close'], window=20, window_dev=2)\n",
    "\n",
    "# Retrieve the upper, middle, and lower bands\n",
    "df['upper_band'] = bb.bollinger_hband()\n",
    "df['middle_band'] = bb.bollinger_mavg()\n",
    "df['lower_band'] = bb.bollinger_lband()"
   ]
  },
  {
   "cell_type": "code",
   "execution_count": 33,
   "metadata": {},
   "outputs": [],
   "source": [
    "df['stoch_oscillator'] = ta.momentum.stoch(high=df['High'], low=df['Low'], close=df['Close'])"
   ]
  },
  {
   "cell_type": "markdown",
   "metadata": {},
   "source": [
    "# Remove NA"
   ]
  },
  {
   "cell_type": "code",
   "execution_count": 35,
   "metadata": {},
   "outputs": [],
   "source": [
    "df = df.dropna(subset=['sma_20','sma_50','stoch_oscillator'])"
   ]
  },
  {
   "cell_type": "code",
   "execution_count": 36,
   "metadata": {},
   "outputs": [],
   "source": [
    "df['next_day_close'] = df['Close'].shift(-1)"
   ]
  },
  {
   "cell_type": "code",
   "execution_count": 37,
   "metadata": {},
   "outputs": [],
   "source": [
    "df = df.dropna(subset=['next_day_close'])"
   ]
  },
  {
   "cell_type": "code",
   "execution_count": 38,
   "metadata": {},
   "outputs": [],
   "source": [
    "df = df.drop(columns='ticker')"
   ]
  },
  {
   "cell_type": "markdown",
   "metadata": {},
   "source": [
    "# Scale df"
   ]
  },
  {
   "cell_type": "code",
   "execution_count": 39,
   "metadata": {},
   "outputs": [],
   "source": [
    "scaler = MinMaxScaler()\n",
    "scaler.fit(df.drop(columns=['Date']))\n",
    "scaled_data = scaler.transform(df.drop(columns=['Date']))\n",
    "df_scaled = pd.DataFrame(scaled_data, columns=df.drop(columns=['Date']).columns)"
   ]
  },
  {
   "cell_type": "code",
   "execution_count": 40,
   "metadata": {},
   "outputs": [],
   "source": [
    "df_reset_index = df.reset_index(drop=True).reset_index()"
   ]
  },
  {
   "cell_type": "code",
   "execution_count": 41,
   "metadata": {},
   "outputs": [],
   "source": [
    "df_scaled = df_scaled.reset_index()"
   ]
  },
  {
   "cell_type": "code",
   "execution_count": 42,
   "metadata": {},
   "outputs": [
    {
     "data": {
      "text/plain": [
       "RangeIndex(start=0, stop=502, step=1)"
      ]
     },
     "execution_count": 42,
     "metadata": {},
     "output_type": "execute_result"
    }
   ],
   "source": [
    "df_scaled.index"
   ]
  },
  {
   "cell_type": "code",
   "execution_count": 43,
   "metadata": {},
   "outputs": [],
   "source": [
    "df_scaled_full = pd.merge(left=df_reset_index[['index','Date']],right=df_scaled, on='index')"
   ]
  },
  {
   "cell_type": "code",
   "execution_count": 44,
   "metadata": {},
   "outputs": [],
   "source": [
    "df_scaled_full = df_scaled_full.drop(columns='index')"
   ]
  },
  {
   "cell_type": "code",
   "execution_count": 46,
   "metadata": {},
   "outputs": [
    {
     "data": {
      "text/html": [
       "<div>\n",
       "<style scoped>\n",
       "    .dataframe tbody tr th:only-of-type {\n",
       "        vertical-align: middle;\n",
       "    }\n",
       "\n",
       "    .dataframe tbody tr th {\n",
       "        vertical-align: top;\n",
       "    }\n",
       "\n",
       "    .dataframe thead th {\n",
       "        text-align: right;\n",
       "    }\n",
       "</style>\n",
       "<table border=\"1\" class=\"dataframe\">\n",
       "  <thead>\n",
       "    <tr style=\"text-align: right;\">\n",
       "      <th></th>\n",
       "      <th>Date</th>\n",
       "      <th>Open</th>\n",
       "      <th>High</th>\n",
       "      <th>Low</th>\n",
       "      <th>Close</th>\n",
       "      <th>Volume</th>\n",
       "      <th>sma_20</th>\n",
       "      <th>sma_50</th>\n",
       "      <th>rsi</th>\n",
       "      <th>macd</th>\n",
       "      <th>upper_band</th>\n",
       "      <th>middle_band</th>\n",
       "      <th>lower_band</th>\n",
       "      <th>stoch_oscillator</th>\n",
       "      <th>next_day_close</th>\n",
       "    </tr>\n",
       "  </thead>\n",
       "  <tbody>\n",
       "    <tr>\n",
       "      <th>0</th>\n",
       "      <td>2022-03-15 00:00:00-04:00</td>\n",
       "      <td>0.125310</td>\n",
       "      <td>0.131944</td>\n",
       "      <td>0.133382</td>\n",
       "      <td>0.144225</td>\n",
       "      <td>0.235514</td>\n",
       "      <td>0.163077</td>\n",
       "      <td>0.209900</td>\n",
       "      <td>0.336474</td>\n",
       "      <td>0.110745</td>\n",
       "      <td>0.157218</td>\n",
       "      <td>0.163077</td>\n",
       "      <td>0.175405</td>\n",
       "      <td>0.578067</td>\n",
       "      <td>0.162926</td>\n",
       "    </tr>\n",
       "    <tr>\n",
       "      <th>1</th>\n",
       "      <td>2022-03-16 00:00:00-04:00</td>\n",
       "      <td>0.148859</td>\n",
       "      <td>0.150143</td>\n",
       "      <td>0.156862</td>\n",
       "      <td>0.162926</td>\n",
       "      <td>0.365913</td>\n",
       "      <td>0.161623</td>\n",
       "      <td>0.207871</td>\n",
       "      <td>0.448473</td>\n",
       "      <td>0.134797</td>\n",
       "      <td>0.152077</td>\n",
       "      <td>0.161623</td>\n",
       "      <td>0.179425</td>\n",
       "      <td>0.958282</td>\n",
       "      <td>0.166241</td>\n",
       "    </tr>\n",
       "    <tr>\n",
       "      <th>2</th>\n",
       "      <td>2022-03-17 00:00:00-04:00</td>\n",
       "      <td>0.156225</td>\n",
       "      <td>0.153003</td>\n",
       "      <td>0.166178</td>\n",
       "      <td>0.166241</td>\n",
       "      <td>0.220939</td>\n",
       "      <td>0.160354</td>\n",
       "      <td>0.206239</td>\n",
       "      <td>0.466829</td>\n",
       "      <td>0.157060</td>\n",
       "      <td>0.146637</td>\n",
       "      <td>0.160354</td>\n",
       "      <td>0.184347</td>\n",
       "      <td>0.982300</td>\n",
       "      <td>0.186955</td>\n",
       "    </tr>\n",
       "    <tr>\n",
       "      <th>3</th>\n",
       "      <td>2022-03-18 00:00:00-04:00</td>\n",
       "      <td>0.164292</td>\n",
       "      <td>0.173163</td>\n",
       "      <td>0.175291</td>\n",
       "      <td>0.186955</td>\n",
       "      <td>0.409008</td>\n",
       "      <td>0.161769</td>\n",
       "      <td>0.205824</td>\n",
       "      <td>0.571558</td>\n",
       "      <td>0.191393</td>\n",
       "      <td>0.152352</td>\n",
       "      <td>0.161769</td>\n",
       "      <td>0.179379</td>\n",
       "      <td>0.980829</td>\n",
       "      <td>0.190405</td>\n",
       "    </tr>\n",
       "    <tr>\n",
       "      <th>4</th>\n",
       "      <td>2022-03-21 00:00:00-04:00</td>\n",
       "      <td>0.184585</td>\n",
       "      <td>0.179968</td>\n",
       "      <td>0.192337</td>\n",
       "      <td>0.190405</td>\n",
       "      <td>0.307994</td>\n",
       "      <td>0.164019</td>\n",
       "      <td>0.205304</td>\n",
       "      <td>0.587478</td>\n",
       "      <td>0.221173</td>\n",
       "      <td>0.159211</td>\n",
       "      <td>0.164019</td>\n",
       "      <td>0.174783</td>\n",
       "      <td>0.936034</td>\n",
       "      <td>0.187827</td>\n",
       "    </tr>\n",
       "    <tr>\n",
       "      <th>...</th>\n",
       "      <td>...</td>\n",
       "      <td>...</td>\n",
       "      <td>...</td>\n",
       "      <td>...</td>\n",
       "      <td>...</td>\n",
       "      <td>...</td>\n",
       "      <td>...</td>\n",
       "      <td>...</td>\n",
       "      <td>...</td>\n",
       "      <td>...</td>\n",
       "      <td>...</td>\n",
       "      <td>...</td>\n",
       "      <td>...</td>\n",
       "      <td>...</td>\n",
       "      <td>...</td>\n",
       "    </tr>\n",
       "    <tr>\n",
       "      <th>497</th>\n",
       "      <td>2024-03-07 00:00:00-05:00</td>\n",
       "      <td>0.940832</td>\n",
       "      <td>0.945917</td>\n",
       "      <td>1.000000</td>\n",
       "      <td>1.000000</td>\n",
       "      <td>0.319907</td>\n",
       "      <td>0.949111</td>\n",
       "      <td>0.942886</td>\n",
       "      <td>0.976414</td>\n",
       "      <td>1.000000</td>\n",
       "      <td>0.942575</td>\n",
       "      <td>0.949111</td>\n",
       "      <td>0.959028</td>\n",
       "      <td>0.996768</td>\n",
       "      <td>0.936875</td>\n",
       "    </tr>\n",
       "    <tr>\n",
       "      <th>498</th>\n",
       "      <td>2024-03-08 00:00:00-05:00</td>\n",
       "      <td>1.000000</td>\n",
       "      <td>1.000000</td>\n",
       "      <td>0.960705</td>\n",
       "      <td>0.936875</td>\n",
       "      <td>0.701365</td>\n",
       "      <td>0.962124</td>\n",
       "      <td>0.956681</td>\n",
       "      <td>0.729753</td>\n",
       "      <td>0.991204</td>\n",
       "      <td>0.955669</td>\n",
       "      <td>0.962124</td>\n",
       "      <td>0.971862</td>\n",
       "      <td>0.682834</td>\n",
       "      <td>0.915339</td>\n",
       "    </tr>\n",
       "    <tr>\n",
       "      <th>499</th>\n",
       "      <td>2024-03-11 00:00:00-04:00</td>\n",
       "      <td>0.896527</td>\n",
       "      <td>0.899574</td>\n",
       "      <td>0.931006</td>\n",
       "      <td>0.915339</td>\n",
       "      <td>0.370958</td>\n",
       "      <td>0.972047</td>\n",
       "      <td>0.969793</td>\n",
       "      <td>0.658756</td>\n",
       "      <td>0.958367</td>\n",
       "      <td>0.964615</td>\n",
       "      <td>0.972047</td>\n",
       "      <td>0.983192</td>\n",
       "      <td>0.626397</td>\n",
       "      <td>0.990717</td>\n",
       "    </tr>\n",
       "    <tr>\n",
       "      <th>500</th>\n",
       "      <td>2024-03-12 00:00:00-04:00</td>\n",
       "      <td>0.915775</td>\n",
       "      <td>0.936497</td>\n",
       "      <td>0.956187</td>\n",
       "      <td>0.990717</td>\n",
       "      <td>0.363481</td>\n",
       "      <td>0.986353</td>\n",
       "      <td>0.985081</td>\n",
       "      <td>0.766502</td>\n",
       "      <td>0.983521</td>\n",
       "      <td>0.985348</td>\n",
       "      <td>0.986353</td>\n",
       "      <td>0.987902</td>\n",
       "      <td>0.763206</td>\n",
       "      <td>0.978132</td>\n",
       "    </tr>\n",
       "    <tr>\n",
       "      <th>501</th>\n",
       "      <td>2024-03-13 00:00:00-04:00</td>\n",
       "      <td>0.951489</td>\n",
       "      <td>0.931174</td>\n",
       "      <td>0.985188</td>\n",
       "      <td>0.978132</td>\n",
       "      <td>0.339961</td>\n",
       "      <td>1.000000</td>\n",
       "      <td>1.000000</td>\n",
       "      <td>0.727127</td>\n",
       "      <td>0.984433</td>\n",
       "      <td>1.000000</td>\n",
       "      <td>1.000000</td>\n",
       "      <td>1.000000</td>\n",
       "      <td>0.678538</td>\n",
       "      <td>0.941983</td>\n",
       "    </tr>\n",
       "  </tbody>\n",
       "</table>\n",
       "<p>502 rows × 15 columns</p>\n",
       "</div>"
      ],
      "text/plain": [
       "                         Date      Open      High       Low     Close  \\\n",
       "0   2022-03-15 00:00:00-04:00  0.125310  0.131944  0.133382  0.144225   \n",
       "1   2022-03-16 00:00:00-04:00  0.148859  0.150143  0.156862  0.162926   \n",
       "2   2022-03-17 00:00:00-04:00  0.156225  0.153003  0.166178  0.166241   \n",
       "3   2022-03-18 00:00:00-04:00  0.164292  0.173163  0.175291  0.186955   \n",
       "4   2022-03-21 00:00:00-04:00  0.184585  0.179968  0.192337  0.190405   \n",
       "..                        ...       ...       ...       ...       ...   \n",
       "497 2024-03-07 00:00:00-05:00  0.940832  0.945917  1.000000  1.000000   \n",
       "498 2024-03-08 00:00:00-05:00  1.000000  1.000000  0.960705  0.936875   \n",
       "499 2024-03-11 00:00:00-04:00  0.896527  0.899574  0.931006  0.915339   \n",
       "500 2024-03-12 00:00:00-04:00  0.915775  0.936497  0.956187  0.990717   \n",
       "501 2024-03-13 00:00:00-04:00  0.951489  0.931174  0.985188  0.978132   \n",
       "\n",
       "       Volume    sma_20    sma_50       rsi      macd  upper_band  \\\n",
       "0    0.235514  0.163077  0.209900  0.336474  0.110745    0.157218   \n",
       "1    0.365913  0.161623  0.207871  0.448473  0.134797    0.152077   \n",
       "2    0.220939  0.160354  0.206239  0.466829  0.157060    0.146637   \n",
       "3    0.409008  0.161769  0.205824  0.571558  0.191393    0.152352   \n",
       "4    0.307994  0.164019  0.205304  0.587478  0.221173    0.159211   \n",
       "..        ...       ...       ...       ...       ...         ...   \n",
       "497  0.319907  0.949111  0.942886  0.976414  1.000000    0.942575   \n",
       "498  0.701365  0.962124  0.956681  0.729753  0.991204    0.955669   \n",
       "499  0.370958  0.972047  0.969793  0.658756  0.958367    0.964615   \n",
       "500  0.363481  0.986353  0.985081  0.766502  0.983521    0.985348   \n",
       "501  0.339961  1.000000  1.000000  0.727127  0.984433    1.000000   \n",
       "\n",
       "     middle_band  lower_band  stoch_oscillator  next_day_close  \n",
       "0       0.163077    0.175405          0.578067        0.162926  \n",
       "1       0.161623    0.179425          0.958282        0.166241  \n",
       "2       0.160354    0.184347          0.982300        0.186955  \n",
       "3       0.161769    0.179379          0.980829        0.190405  \n",
       "4       0.164019    0.174783          0.936034        0.187827  \n",
       "..           ...         ...               ...             ...  \n",
       "497     0.949111    0.959028          0.996768        0.936875  \n",
       "498     0.962124    0.971862          0.682834        0.915339  \n",
       "499     0.972047    0.983192          0.626397        0.990717  \n",
       "500     0.986353    0.987902          0.763206        0.978132  \n",
       "501     1.000000    1.000000          0.678538        0.941983  \n",
       "\n",
       "[502 rows x 15 columns]"
      ]
     },
     "execution_count": 46,
     "metadata": {},
     "output_type": "execute_result"
    }
   ],
   "source": [
    "df_scaled_full"
   ]
  },
  {
   "cell_type": "markdown",
   "metadata": {},
   "source": [
    "# Company Fundamentals"
   ]
  },
  {
   "cell_type": "code",
   "execution_count": 58,
   "metadata": {},
   "outputs": [],
   "source": [
    "import requests\n",
    "import json\n",
    "\n",
    "# replace the \"demo\" apikey below with your own key from https://www.alphavantage.co/support/#api-key\n",
    "url = 'https://www.alphavantage.co/query?function=INCOME_STATEMENT&symbol=IBM&apikey=M482KPOEHSDW3G1M'\n",
    "r = requests.get(url)\n",
    "data = r.json()\n",
    "\n",
    "df_normalse = pd.json_normalize(data)"
   ]
  },
  {
   "cell_type": "code",
   "execution_count": 59,
   "metadata": {},
   "outputs": [],
   "source": [
    "df_quarterly= pd.json_normalize(df_normalse['quarterlyReports'])"
   ]
  },
  {
   "cell_type": "code",
   "execution_count": 64,
   "metadata": {},
   "outputs": [],
   "source": [
    "df_normalise_2023_q4 = pd.json_normalize(df_quarterly[0])\n",
    "df_normalise_2023_q3 = pd.json_normalize(df_quarterly[1])\n",
    "df_normalise_2023_q2 = pd.json_normalize(df_quarterly[2])\n",
    "df_normalise_2023_q1 = pd.json_normalize(df_quarterly[3])\n",
    "df_normalise_2022_q4 = pd.json_normalize(df_quarterly[4])\n",
    "df_normalise_2022_q3 = pd.json_normalize(df_quarterly[5])\n",
    "df_normalise_2022_q2 = pd.json_normalize(df_quarterly[6])\n",
    "df_normalise_2022_q1 = pd.json_normalize(df_quarterly[7])\n"
   ]
  },
  {
   "cell_type": "code",
   "execution_count": 65,
   "metadata": {},
   "outputs": [],
   "source": [
    "df_comp_fund = pd.concat([df_normalise_2023_q4,df_normalise_2023_q3,df_normalise_2023_q2,df_normalise_2023_q1,\n",
    "           df_normalise_2022_q4,df_normalise_2022_q3,df_normalise_2022_q2,df_normalise_2022_q1])\n",
    "           "
   ]
  },
  {
   "cell_type": "code",
   "execution_count": 66,
   "metadata": {},
   "outputs": [],
   "source": [
    "df_comp_fund = df_comp_fund.drop(columns='reportedCurrency')"
   ]
  },
  {
   "cell_type": "code",
   "execution_count": 67,
   "metadata": {},
   "outputs": [],
   "source": [
    "scaler = MinMaxScaler()\n",
    "scaler.fit(df_comp_fund.drop(columns=['fiscalDateEnding','investmentIncomeNet']))\n",
    "scaled_data = scaler.transform(df_comp_fund.drop(columns=['fiscalDateEnding','investmentIncomeNet']))\n",
    "df_comp_fund_scaled = pd.DataFrame(scaled_data, columns=df_comp_fund.drop(columns=['fiscalDateEnding','investmentIncomeNet']).columns)"
   ]
  },
  {
   "cell_type": "code",
   "execution_count": 68,
   "metadata": {},
   "outputs": [],
   "source": [
    "df_comp_fund_reset_index = df_comp_fund.reset_index(drop=True).reset_index()"
   ]
  },
  {
   "cell_type": "code",
   "execution_count": 69,
   "metadata": {},
   "outputs": [],
   "source": [
    "df_comp_fund_scaled = df_comp_fund_scaled.reset_index()"
   ]
  },
  {
   "cell_type": "code",
   "execution_count": 70,
   "metadata": {},
   "outputs": [],
   "source": [
    "df_comp_fund= df_comp_fund_reset_index[['index','fiscalDateEnding']].merge(df_comp_fund_scaled, on='index')"
   ]
  },
  {
   "cell_type": "code",
   "execution_count": 71,
   "metadata": {},
   "outputs": [],
   "source": [
    "df_comp_fund = df_comp_fund.drop(columns = 'index')"
   ]
  },
  {
   "cell_type": "code",
   "execution_count": 72,
   "metadata": {},
   "outputs": [],
   "source": [
    "df_comp_fund['fiscalDateEnding'] = pd.to_datetime(df_comp_fund['fiscalDateEnding'])"
   ]
  },
  {
   "cell_type": "markdown",
   "metadata": {},
   "source": [
    "# Merge Data"
   ]
  },
  {
   "cell_type": "code",
   "execution_count": 73,
   "metadata": {},
   "outputs": [],
   "source": [
    "df_scaled_full['quarter'] = df_scaled_full['Date'].dt.to_period('Q')"
   ]
  },
  {
   "cell_type": "code",
   "execution_count": 74,
   "metadata": {},
   "outputs": [],
   "source": [
    "df_comp_fund['quarter'] = df_comp_fund['fiscalDateEnding'].dt.to_period('Q')"
   ]
  },
  {
   "cell_type": "code",
   "execution_count": 75,
   "metadata": {},
   "outputs": [],
   "source": [
    "df = df_scaled_full.merge(df_comp_fund, on='quarter', how='left')"
   ]
  },
  {
   "cell_type": "code",
   "execution_count": 76,
   "metadata": {},
   "outputs": [],
   "source": [
    "#df = df_scaled_full"
   ]
  },
  {
   "cell_type": "markdown",
   "metadata": {},
   "source": [
    "# Feature engineering"
   ]
  },
  {
   "cell_type": "code",
   "execution_count": 77,
   "metadata": {},
   "outputs": [],
   "source": [
    "# Calculate the correlation coefficients between market indicators and stock prices\n",
    "correlation_matrix = df.corr()\n",
    "correlation_with_stock_prices = correlation_matrix['next_day_close'].dropna()\n",
    "relevant_indicators = correlation_with_stock_prices[abs(correlation_with_stock_prices) > 0.5].index.tolist()"
   ]
  },
  {
   "cell_type": "markdown",
   "metadata": {},
   "source": [
    "# Identify relevant indicators"
   ]
  },
  {
   "cell_type": "code",
   "execution_count": 78,
   "metadata": {},
   "outputs": [
    {
     "data": {
      "text/plain": [
       "['Open',\n",
       " 'High',\n",
       " 'Low',\n",
       " 'Close',\n",
       " 'sma_20',\n",
       " 'sma_50',\n",
       " 'rsi',\n",
       " 'macd',\n",
       " 'upper_band',\n",
       " 'middle_band',\n",
       " 'lower_band',\n",
       " 'next_day_close',\n",
       " 'researchAndDevelopment',\n",
       " 'netInterestIncome',\n",
       " 'interestIncome',\n",
       " 'interestExpense',\n",
       " 'depreciation',\n",
       " 'interestAndDebtExpense']"
      ]
     },
     "execution_count": 78,
     "metadata": {},
     "output_type": "execute_result"
    }
   ],
   "source": [
    "relevant_indicators"
   ]
  },
  {
   "cell_type": "code",
   "execution_count": 79,
   "metadata": {},
   "outputs": [],
   "source": [
    "import statsmodels.formula.api as sm\n"
   ]
  },
  {
   "cell_type": "markdown",
   "metadata": {},
   "source": [
    "# Train Model"
   ]
  },
  {
   "cell_type": "code",
   "execution_count": 89,
   "metadata": {},
   "outputs": [],
   "source": [
    "# Check for NaN values\n",
    "nan_locations = df.isna().any()\n",
    "\n",
    "# Get the columns with NaN values\n",
    "columns_with_nan = nan_locations[nan_locations].index.tolist()\n",
    "\n",
    "# Get the rows with NaN values\n",
    "rows_with_nan = df[df.isna().any(axis=1)].index.tolist()\n"
   ]
  },
  {
   "cell_type": "code",
   "execution_count": 94,
   "metadata": {},
   "outputs": [],
   "source": [
    "df = df.fillna(0)"
   ]
  },
  {
   "cell_type": "code",
   "execution_count": 95,
   "metadata": {},
   "outputs": [],
   "source": [
    "df = df[relevant_indicators]"
   ]
  },
  {
   "cell_type": "code",
   "execution_count": 96,
   "metadata": {},
   "outputs": [],
   "source": [
    "train_size = int(len(df) * 0.8)  # 80% for training\n",
    "train_data = df[:train_size]\n",
    "test_data = df[train_size:]"
   ]
  },
  {
   "cell_type": "code",
   "execution_count": 97,
   "metadata": {},
   "outputs": [],
   "source": [
    "train_data_endog = train_data['next_day_close']\n",
    "train_data_exog = train_data.drop(columns='next_day_close')"
   ]
  },
  {
   "cell_type": "code",
   "execution_count": 98,
   "metadata": {},
   "outputs": [],
   "source": [
    "test_data_endog = test_data['next_day_close']\n",
    "test_data_exog = test_data.drop(columns='next_day_close')"
   ]
  },
  {
   "cell_type": "markdown",
   "metadata": {},
   "source": [
    "# ARIMA Model"
   ]
  },
  {
   "cell_type": "code",
   "execution_count": 99,
   "metadata": {},
   "outputs": [
    {
     "name": "stdout",
     "output_type": "stream",
     "text": [
      "best_order= (0, 0, 0)\n"
     ]
    }
   ],
   "source": [
    "from statsmodels.tsa.stattools import acf, pacf\n",
    "from statsmodels.tsa.arima.model import ARIMA\n",
    "import numpy as np\n",
    "import warnings\n",
    "\n",
    "# Ignore warnings\n",
    "warnings.filterwarnings(\"ignore\")\n",
    "\n",
    "# Specify the range of orders to try\n",
    "p_values = range(3)  # example: try orders (0, 0, 0), (1, 0, 0), and (2, 0, 0)\n",
    "d_values = range(2)  # example: try orders (1, 0, 0) and (1, 1, 0)\n",
    "q_values = range(3)  # example: try orders (1, 0, 0), (1, 0, 1), and (1, 0, 2)\n",
    "\n",
    "best_aic = np.inf\n",
    "best_order = None\n",
    "\n",
    "# Iterate over different orders and select the best model based on AIC\n",
    "for p in p_values:\n",
    "    for d in d_values:\n",
    "        for q in q_values:\n",
    "            try:\n",
    "                model = ARIMA(endog=train_data_endog,exog=train_data_exog, order=(p, d, q))\n",
    "                results = model.fit()\n",
    "                aic = results.aic\n",
    "\n",
    "                if aic < best_aic:\n",
    "                    best_aic = aic\n",
    "                    best_order = (p, d, q)\n",
    "            except:\n",
    "                continue\n",
    "\n",
    "print(\"best_order= {}\".format(best_order))\n",
    "\n",
    "# Create the ARIMA model with selected indicators\n",
    "model = ARIMA(train_data['next_day_close'], order=(p, d, q))\n",
    "results = model.fit()"
   ]
  },
  {
   "cell_type": "code",
   "execution_count": 101,
   "metadata": {},
   "outputs": [
    {
     "name": "stdout",
     "output_type": "stream",
     "text": [
      "Accuracy: 0.38\n"
     ]
    }
   ],
   "source": [
    "from sklearn.metrics import accuracy_score\n",
    "\n",
    "# Forecast on the test data\n",
    "forecast = results.get_forecast(steps=len(test_data), exog=test_data_exog)\n",
    "\n",
    "# Get the predicted values\n",
    "predicted_values = forecast.predicted_mean\n",
    "\n",
    "# Calculate the price change from the predicted values\n",
    "predicted_price_change = np.diff(predicted_values)\n",
    "\n",
    "# Create a binary target variable indicating if the price change is positive (1) or not (0)\n",
    "predicted_price_up = (predicted_price_change > 0).astype(int)\n",
    "\n",
    "# Calculate the actual price change from the test data\n",
    "actual_price_change = np.diff(test_data['next_day_close'])\n",
    "\n",
    "# Create a binary target variable for the actual price change\n",
    "actual_price_up = (actual_price_change > 0).astype(int)\n",
    "\n",
    "# Calculate the accuracy of the predictions\n",
    "accuracy = accuracy_score(actual_price_up, predicted_price_up)\n",
    "\n",
    "# Print the accuracy\n",
    "print(f\"Accuracy: {accuracy}\")"
   ]
  },
  {
   "cell_type": "markdown",
   "metadata": {},
   "source": [
    "# SARIMA Model"
   ]
  },
  {
   "cell_type": "code",
   "execution_count": 102,
   "metadata": {},
   "outputs": [
    {
     "name": "stdout",
     "output_type": "stream",
     "text": [
      "RUNNING THE L-BFGS-B CODE\n",
      "\n",
      "           * * *\n",
      "\n",
      "Machine precision = 2.220D-16\n",
      " N =           19     M =           10\n",
      "\n",
      "At X0         0 variables are exactly at the bounds\n",
      "\n",
      "At iterate    0    f= -3.11799D+00    |proj g|=  4.83744D-01\n"
     ]
    },
    {
     "name": "stderr",
     "output_type": "stream",
     "text": [
      " This problem is unconstrained.\n"
     ]
    },
    {
     "name": "stdout",
     "output_type": "stream",
     "text": [
      "\n",
      "At iterate    5    f= -3.11801D+00    |proj g|=  2.36340D-01\n",
      "\n",
      "At iterate   10    f= -3.11802D+00    |proj g|=  2.46204D-02\n",
      "\n",
      "           * * *\n",
      "\n",
      "Tit   = total number of iterations\n",
      "Tnf   = total number of function evaluations\n",
      "Tnint = total number of segments explored during Cauchy searches\n",
      "Skip  = number of BFGS updates skipped\n",
      "Nact  = number of active bounds at final generalized Cauchy point\n",
      "Projg = norm of the final projected gradient\n",
      "F     = final function value\n",
      "\n",
      "           * * *\n",
      "\n",
      "   N    Tit     Tnf  Tnint  Skip  Nact     Projg        F\n",
      "   19     12     17      1     0     0   1.250D-02  -3.118D+00\n",
      "  F =  -3.1180157226170260     \n",
      "\n",
      "CONVERGENCE: REL_REDUCTION_OF_F_<=_FACTR*EPSMCH             \n",
      "Accuracy: 0.54\n"
     ]
    }
   ],
   "source": [
    "from statsmodels.tsa.statespace.sarimax import SARIMAX\n",
    "from sklearn.metrics import mean_squared_error, mean_absolute_error\n",
    "\n",
    "\n",
    "# Specify the order and seasonal order of the SARIMA model\n",
    "order = (0, 0, 0)  # (p, d, q)\n",
    "seasonal_order = (1, 0, 0, 6)  # (P, D, Q, seasonal_periods)\n",
    "\n",
    "# Create the SARIMA model\n",
    "model = SARIMAX(endog=train_data_endog, exog=train_data_exog, order=order, seasonal_order=seasonal_order)\n",
    "\n",
    "# Fit the SARIMA model\n",
    "results = model.fit()\n",
    "\n",
    "# Forecast on the test data\n",
    "forecast = results.get_forecast(steps=len(test_data), exog=test_data_exog)\n",
    "\n",
    "# Get the predicted mean values\n",
    "predicted_values = forecast.predicted_mean\n",
    "\n",
    "# Calculate the price change from the predicted values\n",
    "predicted_price_change = np.diff(predicted_values)\n",
    "\n",
    "# Create a binary target variable indicating if the price change is positive (1) or not (0)\n",
    "predicted_price_up = (predicted_price_change > 0).astype(int)\n",
    "\n",
    "# Calculate the actual price change from the test data\n",
    "actual_price_change = np.diff(test_data['next_day_close'])\n",
    "\n",
    "# Create a binary target variable for the actual price change\n",
    "actual_price_up = (actual_price_change > 0).astype(int)\n",
    "\n",
    "# Calculate the accuracy of the predictions\n",
    "accuracy = accuracy_score(actual_price_up, predicted_price_up)\n",
    "\n",
    "# Print the accuracy\n",
    "print(f\"Accuracy: {accuracy}\")"
   ]
  }
 ],
 "metadata": {
  "kernelspec": {
   "display_name": "base",
   "language": "python",
   "name": "python3"
  },
  "language_info": {
   "codemirror_mode": {
    "name": "ipython",
    "version": 3
   },
   "file_extension": ".py",
   "mimetype": "text/x-python",
   "name": "python",
   "nbconvert_exporter": "python",
   "pygments_lexer": "ipython3",
   "version": "3.8.18"
  },
  "orig_nbformat": 4
 },
 "nbformat": 4,
 "nbformat_minor": 2
}
