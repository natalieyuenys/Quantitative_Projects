{
 "cells": [
  {
   "cell_type": "markdown",
   "metadata": {},
   "source": [
    "# Data Preparation"
   ]
  },
  {
   "cell_type": "code",
   "execution_count": 1,
   "metadata": {},
   "outputs": [],
   "source": [
    "import warnings\n",
    "warnings.filterwarnings(\"ignore\")\n",
    "\n",
    "import pandas as pd\n",
    "import datetime\n",
    "\n",
    "import statsmodels.formula.api as sm\n",
    "from sklearn.preprocessing import MinMaxScaler\n",
    "\n",
    "import util_functions as uf"
   ]
  },
  {
   "cell_type": "markdown",
   "metadata": {},
   "source": [
    "# Get Data"
   ]
  },
  {
   "cell_type": "code",
   "execution_count": 2,
   "metadata": {},
   "outputs": [],
   "source": [
    "today = datetime.datetime.now()\n",
    "end_date = datetime.datetime(today.year, today.month, today.day)\n",
    "start_date = datetime.datetime(today.year-1, 1, 1)"
   ]
  },
  {
   "cell_type": "code",
   "execution_count": 3,
   "metadata": {},
   "outputs": [
    {
     "name": "stderr",
     "output_type": "stream",
     "text": [
      "[*********************100%%**********************]  1 of 1 completed\n"
     ]
    }
   ],
   "source": [
    "df = uf.getdata('GOOG',[20, 50],'Close', start_date, end_date)"
   ]
  },
  {
   "cell_type": "markdown",
   "metadata": {},
   "source": [
    "# Remove NA"
   ]
  },
  {
   "cell_type": "code",
   "execution_count": 4,
   "metadata": {},
   "outputs": [],
   "source": [
    "df = df.dropna(subset=df.columns.tolist())"
   ]
  },
  {
   "cell_type": "code",
   "execution_count": 5,
   "metadata": {},
   "outputs": [],
   "source": [
    "df['next_day_close'] = df['Close'].shift(-1)"
   ]
  },
  {
   "cell_type": "code",
   "execution_count": 6,
   "metadata": {},
   "outputs": [],
   "source": [
    "df = df.dropna(subset=['next_day_close'])"
   ]
  },
  {
   "cell_type": "code",
   "execution_count": 7,
   "metadata": {},
   "outputs": [],
   "source": [
    "df = df.drop(columns='ticker')"
   ]
  },
  {
   "cell_type": "markdown",
   "metadata": {},
   "source": [
    "# Remove Outliers"
   ]
  },
  {
   "cell_type": "code",
   "execution_count": 8,
   "metadata": {},
   "outputs": [
    {
     "data": {
      "image/png": "[encoded data removed]",
      "text/plain": [
       "<Figure size 640x480 with 1 Axes>"
      ]
     },
     "metadata": {},
     "output_type": "display_data"
    }
   ],
   "source": [
    "plot_k_clusters = uf.kmeans_elbow_method(df.drop(columns=['Date']))"
   ]
  },
  {
   "cell_type": "code",
   "execution_count": 9,
   "metadata": {},
   "outputs": [
    {
     "name": "stdout",
     "output_type": "stream",
     "text": [
      "Number of outliers = 38\n"
     ]
    }
   ],
   "source": [
    "df_outliers = uf.detect_outliers_kmeans(df.drop(columns='Date'), 4)"
   ]
  },
  {
   "cell_type": "code",
   "execution_count": 10,
   "metadata": {},
   "outputs": [
    {
     "data": {
      "text/html": [
       "<div>\n",
       "<style scoped>\n",
       "    .dataframe tbody tr th:only-of-type {\n",
       "        vertical-align: middle;\n",
       "    }\n",
       "\n",
       "    .dataframe tbody tr th {\n",
       "        vertical-align: top;\n",
       "    }\n",
       "\n",
       "    .dataframe thead th {\n",
       "        text-align: right;\n",
       "    }\n",
       "</style>\n",
       "<table border=\"1\" class=\"dataframe\">\n",
       "  <thead>\n",
       "    <tr style=\"text-align: right;\">\n",
       "      <th></th>\n",
       "      <th>next_day_close</th>\n",
       "    </tr>\n",
       "    <tr>\n",
       "      <th>Date</th>\n",
       "      <th></th>\n",
       "    </tr>\n",
       "  </thead>\n",
       "  <tbody>\n",
       "    <tr>\n",
       "      <th>2023-03-31</th>\n",
       "      <td>4</td>\n",
       "    </tr>\n",
       "    <tr>\n",
       "      <th>2023-04-30</th>\n",
       "      <td>0</td>\n",
       "    </tr>\n",
       "    <tr>\n",
       "      <th>2023-05-31</th>\n",
       "      <td>12</td>\n",
       "    </tr>\n",
       "    <tr>\n",
       "      <th>2023-06-30</th>\n",
       "      <td>1</td>\n",
       "    </tr>\n",
       "    <tr>\n",
       "      <th>2023-07-31</th>\n",
       "      <td>1</td>\n",
       "    </tr>\n",
       "    <tr>\n",
       "      <th>2023-08-31</th>\n",
       "      <td>4</td>\n",
       "    </tr>\n",
       "    <tr>\n",
       "      <th>2023-09-30</th>\n",
       "      <td>6</td>\n",
       "    </tr>\n",
       "    <tr>\n",
       "      <th>2023-10-31</th>\n",
       "      <td>0</td>\n",
       "    </tr>\n",
       "    <tr>\n",
       "      <th>2023-11-30</th>\n",
       "      <td>0</td>\n",
       "    </tr>\n",
       "    <tr>\n",
       "      <th>2023-12-31</th>\n",
       "      <td>4</td>\n",
       "    </tr>\n",
       "    <tr>\n",
       "      <th>2024-01-31</th>\n",
       "      <td>4</td>\n",
       "    </tr>\n",
       "    <tr>\n",
       "      <th>2024-02-29</th>\n",
       "      <td>1</td>\n",
       "    </tr>\n",
       "    <tr>\n",
       "      <th>2024-03-31</th>\n",
       "      <td>1</td>\n",
       "    </tr>\n",
       "  </tbody>\n",
       "</table>\n",
       "</div>"
      ],
      "text/plain": [
       "            next_day_close\n",
       "Date                      \n",
       "2023-03-31               4\n",
       "2023-04-30               0\n",
       "2023-05-31              12\n",
       "2023-06-30               1\n",
       "2023-07-31               1\n",
       "2023-08-31               4\n",
       "2023-09-30               6\n",
       "2023-10-31               0\n",
       "2023-11-30               0\n",
       "2023-12-31               4\n",
       "2024-01-31               4\n",
       "2024-02-29               1\n",
       "2024-03-31               1"
      ]
     },
     "execution_count": 10,
     "metadata": {},
     "output_type": "execute_result"
    }
   ],
   "source": [
    "# Check for location of outliers\n",
    "df[df.index.isin(df_outliers.index.tolist())][['Date','next_day_close']].groupby(pd.Grouper(key='Date', freq='M')).count()"
   ]
  },
  {
   "cell_type": "code",
   "execution_count": 11,
   "metadata": {},
   "outputs": [],
   "source": [
    "df = df[~df.index.isin(df_outliers.index.tolist())]"
   ]
  },
  {
   "cell_type": "markdown",
   "metadata": {},
   "source": [
    "# Scale df"
   ]
  },
  {
   "cell_type": "code",
   "execution_count": 12,
   "metadata": {},
   "outputs": [],
   "source": [
    "df_x = df.drop(columns=['Date','next_day_close'])\n",
    "df_y = df[['next_day_close']]"
   ]
  },
  {
   "cell_type": "code",
   "execution_count": 13,
   "metadata": {},
   "outputs": [],
   "source": [
    "scaler_x = MinMaxScaler()\n",
    "scaler_y = MinMaxScaler()"
   ]
  },
  {
   "cell_type": "code",
   "execution_count": 14,
   "metadata": {},
   "outputs": [],
   "source": [
    "df_scaled_x, df_scaled_y = uf.df_min_max_scaler(df_x, df_y, scaler_x, scaler_y)"
   ]
  },
  {
   "cell_type": "markdown",
   "metadata": {},
   "source": [
    "# PCA - reduce dimensionality"
   ]
  },
  {
   "cell_type": "code",
   "execution_count": 15,
   "metadata": {},
   "outputs": [
    {
     "data": {
      "text/plain": [
       "Index(['Open', 'High', 'Low', 'Close', 'Volume', 'sma_20', 'ema_20', 'wma_20',\n",
       "       'sma_50', 'ema_50', 'wma_50', 'upper_band', 'middle_band', 'Lower_band',\n",
       "       'bb_width', 'bb_percent', 'obv', 'vwap', 'adl', 'adx', 'macd',\n",
       "       'ichimoku_a', 'ichimoku_b', 'rsi', 'stoch', 'cci', 'roc', 'atr', 'kc',\n",
       "       'uo', 'wr', 'doji', 'hammer', 'engulfing', 'harami'],\n",
       "      dtype='object')"
      ]
     },
     "execution_count": 15,
     "metadata": {},
     "output_type": "execute_result"
    }
   ],
   "source": [
    "df_scaled_x.columns"
   ]
  },
  {
   "cell_type": "code",
   "execution_count": 36,
   "metadata": {},
   "outputs": [],
   "source": [
    "df_pca_full_x = uf.apply_PCA(df_scaled_x)"
   ]
  },
  {
   "cell_type": "markdown",
   "metadata": {},
   "source": [
    "# df"
   ]
  },
  {
   "cell_type": "code",
   "execution_count": 37,
   "metadata": {},
   "outputs": [],
   "source": [
    "df = pd.concat([df_pca_full_x, df_scaled_y], axis=1)"
   ]
  },
  {
   "cell_type": "markdown",
   "metadata": {},
   "source": [
    "# Feature engineering"
   ]
  },
  {
   "cell_type": "code",
   "execution_count": 39,
   "metadata": {},
   "outputs": [],
   "source": [
    "# Calculate the correlation coefficients between market indicators and stock prices\n",
    "correlation_matrix = df.corr()\n",
    "correlation_with_stock_prices = correlation_matrix['next_day_close'].dropna()\n",
    "relevant_indicators = correlation_with_stock_prices[abs(correlation_with_stock_prices) > 0.5].index.tolist()"
   ]
  },
  {
   "cell_type": "markdown",
   "metadata": {},
   "source": [
    "# Identify relevant indicators"
   ]
  },
  {
   "cell_type": "code",
   "execution_count": 40,
   "metadata": {},
   "outputs": [
    {
     "data": {
      "text/plain": [
       "['PCA0', 'next_day_close']"
      ]
     },
     "execution_count": 40,
     "metadata": {},
     "output_type": "execute_result"
    }
   ],
   "source": [
    "relevant_indicators"
   ]
  },
  {
   "cell_type": "code",
   "execution_count": 41,
   "metadata": {},
   "outputs": [],
   "source": [
    "relevant_indicators = df.columns"
   ]
  },
  {
   "cell_type": "markdown",
   "metadata": {},
   "source": [
    "# Train Model"
   ]
  },
  {
   "cell_type": "code",
   "execution_count": 42,
   "metadata": {},
   "outputs": [],
   "source": [
    "# Check for NaN values\n",
    "nan_locations = df.isna().any()\n",
    "\n",
    "# Get the columns with NaN values\n",
    "columns_with_nan = nan_locations[nan_locations].index.tolist()\n",
    "\n",
    "# Get the rows with NaN values\n",
    "rows_with_nan = df[df.isna().any(axis=1)].index.tolist()\n"
   ]
  },
  {
   "cell_type": "code",
   "execution_count": 43,
   "metadata": {},
   "outputs": [],
   "source": [
    "df = df.fillna(0)"
   ]
  },
  {
   "cell_type": "markdown",
   "metadata": {},
   "source": [
    "# Check for overfitting"
   ]
  },
  {
   "cell_type": "code",
   "execution_count": 44,
   "metadata": {},
   "outputs": [
    {
     "name": "stdout",
     "output_type": "stream",
     "text": [
      "Remove PCA0 = [45.9388, 193.8899, 75.2537, 91.7263, 15.2215, 67.322, 41.6978, 11.1585, 57.1823, 16.0172, 10.1961, 6.5446]\n",
      "[25.7597, 24.5166, 26.9757, 24.3177, 17.8419, 16.9331, 18.9538, 7.934, 5.66, 7.2542, 8.0753, 8.1479]\n",
      "Remove PCA1 = [13.0668, 25.0954, 159.9055, 20.753, 50.0347, 14.5827, 14.3824, 4.252, 31.8513, 6.4798, 39.4345, 12.775]\n",
      "[8.2073, 8.8011, 9.7316, 18.5791, 15.8733, 19.0626, 17.433, 12.406, 8.872, 9.9225, 10.0543, 10.6683]\n",
      "Remove PCA2 = [3.5815, 5.0967, 42.2253, 2.7582, 2.4369, 6.9006, 8.8974, 11.7747, 31.0502, 9.7043, 22.5804, 10.6816]\n",
      "[3.6634, 3.5997, 3.5424, 5.9356, 5.7182, 5.1964, 5.0832, 4.9247, 5.5847, 6.4232, 6.3756, 7.1472]\n",
      "Remove PCA3 = [3.7217, 5.2626, 38.3747, 5.7686, 2.6163, 6.7075, 3.4835, 6.3218, 39.6223, 7.3817, 16.7414, 10.2991]\n",
      "[3.6494, 3.6153, 3.554, 5.5514, 5.222, 4.9913, 5.2466, 4.4929, 4.6032, 5.851, 5.784, 6.307]\n",
      "Remove PCA4 = [3.434, 4.9365, 39.3552, 1.9292, 1.3229, 7.462, 2.8433, 4.692, 26.6249, 4.3801, 17.177, 9.2248]\n",
      "[3.6731, 3.6026, 3.5401, 5.8245, 5.5322, 5.2191, 5.5318, 4.6675, 4.5926, 5.7331, 5.6567, 6.1642]\n",
      "Remove PCA5 = [3.3914, 3.9673, 41.9484, 1.5157, 1.9147, 6.7707, 5.3896, 5.1916, 19.4196, 3.473, 13.1989, 8.7327]\n",
      "[3.7165, 3.65, 3.5417, 5.7724, 5.2906, 4.9284, 5.1515, 4.6835, 4.7347, 5.8399, 5.7692, 6.1589]\n",
      "Remove PCA6 = [4.3001, 3.7093, 45.8139, 10.16, 1.3137, 5.6741, 6.2067, 6.0576, 26.1193, 5.3563, 17.513, 8.9003]\n",
      "[4.0417, 3.9929, 3.8678, 6.0475, 5.79, 5.081, 4.989, 4.5067, 4.5803, 5.7348, 5.6553, 6.4435]\n",
      "Remove PCA7 = [5.9023, 4.9611, 32.929, 7.0553, 2.7751, 6.7962, 3.5531, 6.0181, 31.9976, 4.8966, 16.9511, 8.2153]\n",
      "[3.9247, 3.941, 3.7599, 5.5295, 5.242, 5.049, 5.1343, 4.5278, 4.5803, 5.7247, 5.6659, 6.1651]\n"
     ]
    }
   ],
   "source": [
    "import warnings\n",
    "warnings.filterwarnings(\"ignore\")\n",
    "\n",
    "from statsmodels.tsa.arima.model import ARIMA\n",
    "from sklearn.metrics import mean_squared_error\n",
    "\n",
    "# Set the window size and step size for cross-validation\n",
    "window_size = 100\n",
    "step_size = 10\n",
    "\n",
    "for i in relevant_indicators[:-1]:\n",
    "\n",
    "    mse_scores_test = []\n",
    "    mse_scores_train = []\n",
    "    \n",
    "    df_temp = df[relevant_indicators].drop(columns=i)    \n",
    "    # Perform rolling window cross-validation\n",
    "    for start in range(0, len(df) - window_size + 1, step_size):\n",
    "        \n",
    "        end = start + window_size\n",
    "        \n",
    "        # Split the data into training and validation sets\n",
    "        train_data = df_temp.iloc[start:end]\n",
    "        test_data = df_temp.iloc[end:end+step_size]\n",
    "\n",
    "        train_data_endog = train_data['next_day_close']\n",
    "        train_data_exog = train_data.drop(columns='next_day_close')\n",
    "\n",
    "        test_data_endog = test_data['next_day_close']\n",
    "        test_data_exog = test_data.drop(columns='next_day_close')\n",
    "        \n",
    "        # Fit the ARIMAX model\n",
    "        model = ARIMA(endog=train_data_endog, exog=train_data_exog, order=(0, 0, 0))\n",
    "        model_fit = model.fit()\n",
    "\n",
    "        # Make predictions\n",
    "        test_predictions = model_fit.get_forecast(steps=len(test_data), exog=test_data_exog)\n",
    "        train_predictions = model_fit.get_forecast(steps=len(train_data), exog=train_data_exog)\n",
    "\n",
    "        val_predictions_mean = test_predictions.predicted_mean\n",
    "        val_predictions_mean = val_predictions_mean.values.reshape(-1,1)\n",
    "        test_pred = scaler_y.inverse_transform(val_predictions_mean)\n",
    "\n",
    "        test_endo = test_data_endog.values.reshape(-1,1)\n",
    "        test_endo = scaler_y.inverse_transform(test_endo)\n",
    "\n",
    "        train_predictions_mean = train_predictions.predicted_mean\n",
    "        train_pred = train_predictions_mean.values.reshape(-1,1)\n",
    "        train_pred = scaler_y.inverse_transform(train_pred)\n",
    "\n",
    "        train_endo = train_data_endog.values.reshape(-1,1)\n",
    "        train_endo = scaler_y.inverse_transform(train_endo)\n",
    "\n",
    "        #Calculate mean squared error (MSE) as the performance metric\n",
    "        mse_test = mean_squared_error(test_endo, test_pred)\n",
    "        mse_scores_test.append(round(mse_test,4))\n",
    "\n",
    "        mse_train = mean_squared_error(train_endo, train_pred)\n",
    "        mse_scores_train.append(round(mse_train,4))\n",
    "\n",
    "    print(\"Remove {} = {}\\n{}\".format(i,mse_scores_test,mse_scores_train))"
   ]
  },
  {
   "cell_type": "code",
   "execution_count": 45,
   "metadata": {},
   "outputs": [],
   "source": [
    "#df = df[relevant_indicators].drop(columns='Close')"
   ]
  },
  {
   "cell_type": "markdown",
   "metadata": {},
   "source": [
    "# Find Best Order"
   ]
  },
  {
   "cell_type": "code",
   "execution_count": 46,
   "metadata": {},
   "outputs": [],
   "source": [
    "train_size = int(len(df) * 0.8)  # 80% for training\n",
    "train_data = df[:train_size]\n",
    "test_data = df[train_size:]"
   ]
  },
  {
   "cell_type": "markdown",
   "metadata": {},
   "source": [
    "# ARIMA Model Prediction"
   ]
  },
  {
   "cell_type": "code",
   "execution_count": 47,
   "metadata": {},
   "outputs": [
    {
     "name": "stdout",
     "output_type": "stream",
     "text": [
      "Accuracy of best order (2,1,2) = 0.6744186046511628\n"
     ]
    }
   ],
   "source": [
    "uf.find_best_order_accuracy(train_data, test_data, df_y, train_size, scaler_y)"
   ]
  },
  {
   "cell_type": "markdown",
   "metadata": {},
   "source": [
    "# SARIMA Model"
   ]
  },
  {
   "cell_type": "code",
   "execution_count": 29,
   "metadata": {},
   "outputs": [
    {
     "name": "stdout",
     "output_type": "stream",
     "text": [
      "Accuracy: 0.5\n"
     ]
    }
   ],
   "source": [
    "from statsmodels.tsa.statespace.sarimax import SARIMAX\n",
    "from sklearn.metrics import mean_squared_error, mean_absolute_error\n",
    "\n",
    "\n",
    "# Specify the order and seasonal order of the SARIMA model\n",
    "order = (2, 0, 0)  # (p, d, q)\n",
    "seasonal_order = (1, 0, 0, 90)  # (P, D, Q, seasonal_periods)\n",
    "\n",
    "# Create the SARIMA model\n",
    "model = SARIMAX(endog=train_data_endog, exog=train_data_exog, order=order, seasonal_order=seasonal_order)\n",
    "\n",
    "# Fit the SARIMA model\n",
    "results = model.fit()\n",
    "\n",
    "# Forecast on the test data\n",
    "forecast = results.get_forecast(steps=len(test_data), exog=test_data_exog)\n",
    "\n",
    "# Get the predicted mean values\n",
    "predicted_values = forecast.predicted_mean\n",
    "val_predictions_mean = predicted_values.values.reshape(-1,1)\n",
    "test_pred = scaler_y.inverse_transform(val_predictions_mean)\n",
    "test_pred_series = pd.Series(test_pred.flatten())\n",
    "\n",
    "# Calculate the price change from the predicted values\n",
    "predicted_price_change = test_pred_series.diff()\n",
    "\n",
    "# Create a binary target variable indicating if the price change is positive (1) or not (0)\n",
    "predicted_price_up = (predicted_price_change > 0).astype(int)\n",
    "\n",
    "# Calculate the actual price change from the test data\n",
    "actual_price_change = test_data['next_day_close'].diff()\n",
    "\n",
    "# Create a binary target variable for the actual price change\n",
    "actual_price_up = (actual_price_change > 0).astype(int)\n",
    "\n",
    "# Calculate the accuracy of the predictions\n",
    "accuracy = accuracy_score(actual_price_up, predicted_price_up)\n",
    "\n",
    "# Print the accuracy\n",
    "print(f\"Accuracy: {accuracy}\")"
   ]
  },
  {
   "cell_type": "code",
   "execution_count": null,
   "metadata": {},
   "outputs": [],
   "source": []
  }
 ],
 "metadata": {
  "kernelspec": {
   "display_name": "base",
   "language": "python",
   "name": "python3"
  },
  "language_info": {
   "codemirror_mode": {
    "name": "ipython",
    "version": 3
   },
   "file_extension": ".py",
   "mimetype": "text/x-python",
   "name": "python",
   "nbconvert_exporter": "python",
   "pygments_lexer": "ipython3",
   "version": "3.8.18"
  },
  "orig_nbformat": 4
 },
 "nbformat": 4,
 "nbformat_minor": 2
}
