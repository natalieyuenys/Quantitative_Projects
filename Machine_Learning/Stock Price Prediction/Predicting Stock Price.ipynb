{
 "cells": [
  {
   "cell_type": "markdown",
   "metadata": {},
   "source": [
    "# Data Preparation"
   ]
  },
  {
   "cell_type": "code",
   "execution_count": 10,
   "metadata": {},
   "outputs": [],
   "source": [
    "import warnings\n",
    "warnings.filterwarnings(\"ignore\")\n",
    "\n",
    "import pandas as pd\n",
    "import yfinance as yf\n",
    "import datetime\n",
    "from dateutil.relativedelta import relativedelta\n",
    "\n",
    "import ta\n",
    "from statistics import mean\n",
    "from sklearn.preprocessing import MinMaxScaler\n",
    "\n",
    "import util_functions as uf"
   ]
  },
  {
   "cell_type": "markdown",
   "metadata": {},
   "source": [
    "# Get Data"
   ]
  },
  {
   "cell_type": "code",
   "execution_count": 92,
   "metadata": {},
   "outputs": [
    {
     "name": "stderr",
     "output_type": "stream",
     "text": [
      "[*********************100%%**********************]  1 of 1 completed\n"
     ]
    }
   ],
   "source": [
    "df = uf.getdata('NVDA',[20, 50],'Close')"
   ]
  },
  {
   "cell_type": "code",
   "execution_count": 93,
   "metadata": {},
   "outputs": [],
   "source": [
    "df['rsi'] = ta.momentum.rsi(df['Close'])"
   ]
  },
  {
   "cell_type": "code",
   "execution_count": 94,
   "metadata": {},
   "outputs": [],
   "source": [
    "df['macd'] = ta.trend.macd(df['Close'])"
   ]
  },
  {
   "cell_type": "code",
   "execution_count": 95,
   "metadata": {},
   "outputs": [],
   "source": [
    "# Calculate the Bollinger Bands\n",
    "bb = ta.volatility.BollingerBands(close=df['Close'], window=20, window_dev=2)\n",
    "\n",
    "# Retrieve the upper, middle, and lower bands\n",
    "df['upper_band'] = bb.bollinger_hband()\n",
    "df['middle_band'] = bb.bollinger_mavg()\n",
    "df['lower_band'] = bb.bollinger_lband()"
   ]
  },
  {
   "cell_type": "code",
   "execution_count": 96,
   "metadata": {},
   "outputs": [],
   "source": [
    "df['stoch_oscillator'] = ta.momentum.stoch(high=df['High'], low=df['Low'], close=df['Close'])"
   ]
  },
  {
   "cell_type": "markdown",
   "metadata": {},
   "source": [
    "# Remove NA"
   ]
  },
  {
   "cell_type": "code",
   "execution_count": 97,
   "metadata": {},
   "outputs": [],
   "source": [
    "df = df.dropna(subset=['sma_20','sma_50','stoch_oscillator'])"
   ]
  },
  {
   "cell_type": "code",
   "execution_count": 98,
   "metadata": {},
   "outputs": [],
   "source": [
    "df['next_day_close'] = df['Close'].shift(-1)"
   ]
  },
  {
   "cell_type": "code",
   "execution_count": 99,
   "metadata": {},
   "outputs": [],
   "source": [
    "df = df.dropna(subset=['next_day_close'])"
   ]
  },
  {
   "cell_type": "code",
   "execution_count": 100,
   "metadata": {},
   "outputs": [],
   "source": [
    "df = df.drop(columns='ticker')"
   ]
  },
  {
   "cell_type": "markdown",
   "metadata": {},
   "source": [
    "# Scale df"
   ]
  },
  {
   "cell_type": "code",
   "execution_count": 125,
   "metadata": {},
   "outputs": [],
   "source": [
    "df_x = df.drop(columns=['Date','next_day_close'])\n",
    "df_y = df[['next_day_close']]"
   ]
  },
  {
   "cell_type": "code",
   "execution_count": 126,
   "metadata": {},
   "outputs": [],
   "source": [
    "scaler_x = MinMaxScaler()\n",
    "\n",
    "scaler_x.fit(df_x)\n",
    "scaled_data_x = scaler_x.transform(df_x)\n",
    "df_scaled_x = pd.DataFrame(scaled_data_x, columns=df_x.columns)"
   ]
  },
  {
   "cell_type": "code",
   "execution_count": 129,
   "metadata": {},
   "outputs": [],
   "source": [
    "scaler_y = MinMaxScaler()\n",
    "\n",
    "scaler_y.fit(df_y)\n",
    "scaled_data_y = scaler_y.transform(df_y)\n",
    "df_scaled_y = pd.DataFrame(scaled_data_y, columns=df_y.columns)"
   ]
  },
  {
   "cell_type": "code",
   "execution_count": 21,
   "metadata": {},
   "outputs": [],
   "source": [
    "df_reset_index = df.reset_index(drop=True).reset_index()"
   ]
  },
  {
   "cell_type": "code",
   "execution_count": 110,
   "metadata": {},
   "outputs": [],
   "source": [
    "df_scaled_x = df_scaled_x.reset_index()"
   ]
  },
  {
   "cell_type": "code",
   "execution_count": 114,
   "metadata": {},
   "outputs": [],
   "source": [
    "df_scaled_full_x = pd.merge(left=df_reset_index[['index','Date']],right=df_scaled_x, on='index')"
   ]
  },
  {
   "cell_type": "code",
   "execution_count": 115,
   "metadata": {},
   "outputs": [],
   "source": [
    "df_scaled_full_x = df_scaled_full_x.drop(columns='index')"
   ]
  },
  {
   "cell_type": "markdown",
   "metadata": {},
   "source": [
    "# Remove Outliers"
   ]
  },
  {
   "cell_type": "code",
   "execution_count": 118,
   "metadata": {},
   "outputs": [
    {
     "data": {
      "image/png": "[encoded data removed]",
      "text/plain": [
       "<Figure size 640x480 with 1 Axes>"
      ]
     },
     "metadata": {},
     "output_type": "display_data"
    }
   ],
   "source": [
    "plot_k_clusters = uf.kmeans_elbow_method(df_scaled_full_x.drop(columns='Date'))"
   ]
  },
  {
   "cell_type": "code",
   "execution_count": 119,
   "metadata": {},
   "outputs": [],
   "source": [
    "df_outliers = uf.detect_outliers_kmeans(df_scaled_full_x.drop(columns='Date'), 4)"
   ]
  },
  {
   "cell_type": "code",
   "execution_count": 120,
   "metadata": {},
   "outputs": [
    {
     "data": {
      "text/plain": [
       "26"
      ]
     },
     "execution_count": 120,
     "metadata": {},
     "output_type": "execute_result"
    }
   ],
   "source": [
    "len(df_outliers)"
   ]
  },
  {
   "cell_type": "code",
   "execution_count": 156,
   "metadata": {},
   "outputs": [],
   "source": [
    "df_scaled_full_x = df_scaled_full_x[~df_scaled_full_x.index.isin(df_outliers.index.tolist())]"
   ]
  },
  {
   "cell_type": "code",
   "execution_count": 131,
   "metadata": {},
   "outputs": [],
   "source": [
    "df_scaled_y = df_scaled_y[~df_scaled_y.index.isin(df_outliers.index.tolist())]"
   ]
  },
  {
   "cell_type": "markdown",
   "metadata": {},
   "source": [
    "# Company Fundamentals"
   ]
  },
  {
   "cell_type": "code",
   "execution_count": 133,
   "metadata": {},
   "outputs": [],
   "source": [
    "import requests\n",
    "import json\n",
    "\n",
    "# replace the \"demo\" apikey below with your own key from https://www.alphavantage.co/support/#api-key\n",
    "url = 'https://www.alphavantage.co/query?function=INCOME_STATEMENT&symbol=IBM&apikey=M482KPOEHSDW3G1M'\n",
    "r = requests.get(url)\n",
    "data = r.json()\n",
    "\n",
    "df_normalse = pd.json_normalize(data)"
   ]
  },
  {
   "cell_type": "code",
   "execution_count": 134,
   "metadata": {},
   "outputs": [],
   "source": [
    "df_quarterly= pd.json_normalize(df_normalse['quarterlyReports'])"
   ]
  },
  {
   "cell_type": "code",
   "execution_count": 135,
   "metadata": {},
   "outputs": [],
   "source": [
    "df_normalise_2023_q4 = pd.json_normalize(df_quarterly[0])\n",
    "df_normalise_2023_q3 = pd.json_normalize(df_quarterly[1])\n",
    "df_normalise_2023_q2 = pd.json_normalize(df_quarterly[2])\n",
    "df_normalise_2023_q1 = pd.json_normalize(df_quarterly[3])\n",
    "df_normalise_2022_q4 = pd.json_normalize(df_quarterly[4])\n",
    "df_normalise_2022_q3 = pd.json_normalize(df_quarterly[5])\n",
    "df_normalise_2022_q2 = pd.json_normalize(df_quarterly[6])\n",
    "df_normalise_2022_q1 = pd.json_normalize(df_quarterly[7])\n"
   ]
  },
  {
   "cell_type": "code",
   "execution_count": 136,
   "metadata": {},
   "outputs": [],
   "source": [
    "df_comp_fund = pd.concat([df_normalise_2023_q4,df_normalise_2023_q3,df_normalise_2023_q2,df_normalise_2023_q1,\n",
    "           df_normalise_2022_q4,df_normalise_2022_q3,df_normalise_2022_q2,df_normalise_2022_q1])\n",
    "           "
   ]
  },
  {
   "cell_type": "code",
   "execution_count": 137,
   "metadata": {},
   "outputs": [],
   "source": [
    "df_comp_fund = df_comp_fund.drop(columns='reportedCurrency')"
   ]
  },
  {
   "cell_type": "code",
   "execution_count": 138,
   "metadata": {},
   "outputs": [],
   "source": [
    "scaler = MinMaxScaler()\n",
    "scaler.fit(df_comp_fund.drop(columns=['fiscalDateEnding','investmentIncomeNet']))\n",
    "scaled_data = scaler.transform(df_comp_fund.drop(columns=['fiscalDateEnding','investmentIncomeNet']))\n",
    "df_comp_fund_scaled = pd.DataFrame(scaled_data, columns=df_comp_fund.drop(columns=['fiscalDateEnding','investmentIncomeNet']).columns)"
   ]
  },
  {
   "cell_type": "code",
   "execution_count": 139,
   "metadata": {},
   "outputs": [
    {
     "data": {
      "text/plain": [
       "(8, 23)"
      ]
     },
     "execution_count": 139,
     "metadata": {},
     "output_type": "execute_result"
    }
   ],
   "source": [
    "scaled_data.shape"
   ]
  },
  {
   "cell_type": "code",
   "execution_count": 140,
   "metadata": {},
   "outputs": [],
   "source": [
    "df_comp_fund_reset_index = df_comp_fund.reset_index(drop=True).reset_index()"
   ]
  },
  {
   "cell_type": "code",
   "execution_count": 141,
   "metadata": {},
   "outputs": [],
   "source": [
    "df_comp_fund_scaled = df_comp_fund_scaled.reset_index()"
   ]
  },
  {
   "cell_type": "code",
   "execution_count": 142,
   "metadata": {},
   "outputs": [],
   "source": [
    "df_comp_fund= df_comp_fund_reset_index[['index','fiscalDateEnding']].merge(df_comp_fund_scaled, on='index')"
   ]
  },
  {
   "cell_type": "code",
   "execution_count": 143,
   "metadata": {},
   "outputs": [],
   "source": [
    "df_comp_fund = df_comp_fund.drop(columns = 'index')"
   ]
  },
  {
   "cell_type": "code",
   "execution_count": 144,
   "metadata": {},
   "outputs": [],
   "source": [
    "df_comp_fund['fiscalDateEnding'] = pd.to_datetime(df_comp_fund['fiscalDateEnding'])"
   ]
  },
  {
   "cell_type": "markdown",
   "metadata": {},
   "source": [
    "# Merge Data"
   ]
  },
  {
   "cell_type": "code",
   "execution_count": 145,
   "metadata": {},
   "outputs": [],
   "source": [
    "df_scaled_full['quarter'] = df_scaled_full['Date'].dt.to_period('Q')"
   ]
  },
  {
   "cell_type": "code",
   "execution_count": 43,
   "metadata": {},
   "outputs": [],
   "source": [
    "df_comp_fund['quarter'] = df_comp_fund['fiscalDateEnding'].dt.to_period('Q')"
   ]
  },
  {
   "cell_type": "code",
   "execution_count": 44,
   "metadata": {},
   "outputs": [],
   "source": [
    "df = df_scaled_full.merge(df_comp_fund, on='quarter', how='left')"
   ]
  },
  {
   "cell_type": "code",
   "execution_count": 161,
   "metadata": {},
   "outputs": [],
   "source": [
    "df = pd.concat([df_scaled_full_x, df_scaled_y], axis=1)"
   ]
  },
  {
   "cell_type": "code",
   "execution_count": 162,
   "metadata": {},
   "outputs": [
    {
     "data": {
      "text/html": [
       "<div>\n",
       "<style scoped>\n",
       "    .dataframe tbody tr th:only-of-type {\n",
       "        vertical-align: middle;\n",
       "    }\n",
       "\n",
       "    .dataframe tbody tr th {\n",
       "        vertical-align: top;\n",
       "    }\n",
       "\n",
       "    .dataframe thead th {\n",
       "        text-align: right;\n",
       "    }\n",
       "</style>\n",
       "<table border=\"1\" class=\"dataframe\">\n",
       "  <thead>\n",
       "    <tr style=\"text-align: right;\">\n",
       "      <th></th>\n",
       "      <th>Date</th>\n",
       "      <th>Open</th>\n",
       "      <th>High</th>\n",
       "      <th>Low</th>\n",
       "      <th>Close</th>\n",
       "      <th>Volume</th>\n",
       "      <th>sma_20</th>\n",
       "      <th>sma_50</th>\n",
       "      <th>rsi</th>\n",
       "      <th>macd</th>\n",
       "      <th>upper_band</th>\n",
       "      <th>middle_band</th>\n",
       "      <th>lower_band</th>\n",
       "      <th>stoch_oscillator</th>\n",
       "      <th>next_day_close</th>\n",
       "    </tr>\n",
       "  </thead>\n",
       "  <tbody>\n",
       "    <tr>\n",
       "      <th>0</th>\n",
       "      <td>2022-03-15</td>\n",
       "      <td>0.125310</td>\n",
       "      <td>0.131944</td>\n",
       "      <td>0.133382</td>\n",
       "      <td>0.144225</td>\n",
       "      <td>0.235514</td>\n",
       "      <td>0.161428</td>\n",
       "      <td>0.206931</td>\n",
       "      <td>0.336474</td>\n",
       "      <td>0.110745</td>\n",
       "      <td>0.156024</td>\n",
       "      <td>0.161428</td>\n",
       "      <td>0.172987</td>\n",
       "      <td>0.578067</td>\n",
       "      <td>0.162926</td>\n",
       "    </tr>\n",
       "    <tr>\n",
       "      <th>1</th>\n",
       "      <td>2022-03-16</td>\n",
       "      <td>0.148859</td>\n",
       "      <td>0.150143</td>\n",
       "      <td>0.156862</td>\n",
       "      <td>0.162926</td>\n",
       "      <td>0.365913</td>\n",
       "      <td>0.159988</td>\n",
       "      <td>0.204931</td>\n",
       "      <td>0.448473</td>\n",
       "      <td>0.134797</td>\n",
       "      <td>0.150922</td>\n",
       "      <td>0.159988</td>\n",
       "      <td>0.176952</td>\n",
       "      <td>0.958282</td>\n",
       "      <td>0.166241</td>\n",
       "    </tr>\n",
       "    <tr>\n",
       "      <th>2</th>\n",
       "      <td>2022-03-17</td>\n",
       "      <td>0.156225</td>\n",
       "      <td>0.153003</td>\n",
       "      <td>0.166178</td>\n",
       "      <td>0.166241</td>\n",
       "      <td>0.220939</td>\n",
       "      <td>0.158732</td>\n",
       "      <td>0.203323</td>\n",
       "      <td>0.466829</td>\n",
       "      <td>0.157060</td>\n",
       "      <td>0.145524</td>\n",
       "      <td>0.158732</td>\n",
       "      <td>0.181805</td>\n",
       "      <td>0.982300</td>\n",
       "      <td>0.186955</td>\n",
       "    </tr>\n",
       "    <tr>\n",
       "      <th>3</th>\n",
       "      <td>2022-03-18</td>\n",
       "      <td>0.164292</td>\n",
       "      <td>0.173163</td>\n",
       "      <td>0.175291</td>\n",
       "      <td>0.186955</td>\n",
       "      <td>0.409008</td>\n",
       "      <td>0.160133</td>\n",
       "      <td>0.202913</td>\n",
       "      <td>0.571558</td>\n",
       "      <td>0.191393</td>\n",
       "      <td>0.151196</td>\n",
       "      <td>0.160133</td>\n",
       "      <td>0.176906</td>\n",
       "      <td>0.980829</td>\n",
       "      <td>0.190405</td>\n",
       "    </tr>\n",
       "    <tr>\n",
       "      <th>4</th>\n",
       "      <td>2022-03-21</td>\n",
       "      <td>0.184585</td>\n",
       "      <td>0.179968</td>\n",
       "      <td>0.192337</td>\n",
       "      <td>0.190405</td>\n",
       "      <td>0.307994</td>\n",
       "      <td>0.162360</td>\n",
       "      <td>0.202400</td>\n",
       "      <td>0.587478</td>\n",
       "      <td>0.221173</td>\n",
       "      <td>0.158002</td>\n",
       "      <td>0.162360</td>\n",
       "      <td>0.172374</td>\n",
       "      <td>0.936034</td>\n",
       "      <td>0.187827</td>\n",
       "    </tr>\n",
       "    <tr>\n",
       "      <th>...</th>\n",
       "      <td>...</td>\n",
       "      <td>...</td>\n",
       "      <td>...</td>\n",
       "      <td>...</td>\n",
       "      <td>...</td>\n",
       "      <td>...</td>\n",
       "      <td>...</td>\n",
       "      <td>...</td>\n",
       "      <td>...</td>\n",
       "      <td>...</td>\n",
       "      <td>...</td>\n",
       "      <td>...</td>\n",
       "      <td>...</td>\n",
       "      <td>...</td>\n",
       "      <td>...</td>\n",
       "    </tr>\n",
       "    <tr>\n",
       "      <th>493</th>\n",
       "      <td>2024-03-01</td>\n",
       "      <td>0.820143</td>\n",
       "      <td>0.823732</td>\n",
       "      <td>0.870959</td>\n",
       "      <td>0.872425</td>\n",
       "      <td>0.224454</td>\n",
       "      <td>0.882800</td>\n",
       "      <td>0.873718</td>\n",
       "      <td>0.826875</td>\n",
       "      <td>0.821426</td>\n",
       "      <td>0.837751</td>\n",
       "      <td>0.882800</td>\n",
       "      <td>0.949699</td>\n",
       "      <td>0.993333</td>\n",
       "      <td>0.908745</td>\n",
       "    </tr>\n",
       "    <tr>\n",
       "      <th>494</th>\n",
       "      <td>2024-03-04</td>\n",
       "      <td>0.869212</td>\n",
       "      <td>0.886710</td>\n",
       "      <td>0.925332</td>\n",
       "      <td>0.908745</td>\n",
       "      <td>0.325356</td>\n",
       "      <td>0.896537</td>\n",
       "      <td>0.886387</td>\n",
       "      <td>0.877273</td>\n",
       "      <td>0.861806</td>\n",
       "      <td>0.857504</td>\n",
       "      <td>0.896537</td>\n",
       "      <td>0.954512</td>\n",
       "      <td>0.885596</td>\n",
       "      <td>0.917671</td>\n",
       "    </tr>\n",
       "    <tr>\n",
       "      <th>495</th>\n",
       "      <td>2024-03-05</td>\n",
       "      <td>0.882757</td>\n",
       "      <td>0.868056</td>\n",
       "      <td>0.921499</td>\n",
       "      <td>0.917671</td>\n",
       "      <td>0.256331</td>\n",
       "      <td>0.908514</td>\n",
       "      <td>0.899846</td>\n",
       "      <td>0.888698</td>\n",
       "      <td>0.893003</td>\n",
       "      <td>0.878285</td>\n",
       "      <td>0.908514</td>\n",
       "      <td>0.953461</td>\n",
       "      <td>0.919573</td>\n",
       "      <td>0.951266</td>\n",
       "    </tr>\n",
       "    <tr>\n",
       "      <th>496</th>\n",
       "      <td>2024-03-06</td>\n",
       "      <td>0.915454</td>\n",
       "      <td>0.910395</td>\n",
       "      <td>0.967356</td>\n",
       "      <td>0.951266</td>\n",
       "      <td>0.301303</td>\n",
       "      <td>0.923260</td>\n",
       "      <td>0.913965</td>\n",
       "      <td>0.928736</td>\n",
       "      <td>0.936110</td>\n",
       "      <td>0.902278</td>\n",
       "      <td>0.923260</td>\n",
       "      <td>0.954514</td>\n",
       "      <td>0.956751</td>\n",
       "      <td>1.000000</td>\n",
       "    </tr>\n",
       "    <tr>\n",
       "      <th>499</th>\n",
       "      <td>2024-03-11</td>\n",
       "      <td>0.896527</td>\n",
       "      <td>0.899574</td>\n",
       "      <td>0.931006</td>\n",
       "      <td>0.915339</td>\n",
       "      <td>0.370958</td>\n",
       "      <td>0.962217</td>\n",
       "      <td>0.956078</td>\n",
       "      <td>0.658756</td>\n",
       "      <td>0.958367</td>\n",
       "      <td>0.957291</td>\n",
       "      <td>0.962217</td>\n",
       "      <td>0.969639</td>\n",
       "      <td>0.626397</td>\n",
       "      <td>0.990717</td>\n",
       "    </tr>\n",
       "  </tbody>\n",
       "</table>\n",
       "<p>477 rows × 15 columns</p>\n",
       "</div>"
      ],
      "text/plain": [
       "          Date      Open      High       Low     Close    Volume    sma_20  \\\n",
       "0   2022-03-15  0.125310  0.131944  0.133382  0.144225  0.235514  0.161428   \n",
       "1   2022-03-16  0.148859  0.150143  0.156862  0.162926  0.365913  0.159988   \n",
       "2   2022-03-17  0.156225  0.153003  0.166178  0.166241  0.220939  0.158732   \n",
       "3   2022-03-18  0.164292  0.173163  0.175291  0.186955  0.409008  0.160133   \n",
       "4   2022-03-21  0.184585  0.179968  0.192337  0.190405  0.307994  0.162360   \n",
       "..         ...       ...       ...       ...       ...       ...       ...   \n",
       "493 2024-03-01  0.820143  0.823732  0.870959  0.872425  0.224454  0.882800   \n",
       "494 2024-03-04  0.869212  0.886710  0.925332  0.908745  0.325356  0.896537   \n",
       "495 2024-03-05  0.882757  0.868056  0.921499  0.917671  0.256331  0.908514   \n",
       "496 2024-03-06  0.915454  0.910395  0.967356  0.951266  0.301303  0.923260   \n",
       "499 2024-03-11  0.896527  0.899574  0.931006  0.915339  0.370958  0.962217   \n",
       "\n",
       "       sma_50       rsi      macd  upper_band  middle_band  lower_band  \\\n",
       "0    0.206931  0.336474  0.110745    0.156024     0.161428    0.172987   \n",
       "1    0.204931  0.448473  0.134797    0.150922     0.159988    0.176952   \n",
       "2    0.203323  0.466829  0.157060    0.145524     0.158732    0.181805   \n",
       "3    0.202913  0.571558  0.191393    0.151196     0.160133    0.176906   \n",
       "4    0.202400  0.587478  0.221173    0.158002     0.162360    0.172374   \n",
       "..        ...       ...       ...         ...          ...         ...   \n",
       "493  0.873718  0.826875  0.821426    0.837751     0.882800    0.949699   \n",
       "494  0.886387  0.877273  0.861806    0.857504     0.896537    0.954512   \n",
       "495  0.899846  0.888698  0.893003    0.878285     0.908514    0.953461   \n",
       "496  0.913965  0.928736  0.936110    0.902278     0.923260    0.954514   \n",
       "499  0.956078  0.658756  0.958367    0.957291     0.962217    0.969639   \n",
       "\n",
       "     stoch_oscillator  next_day_close  \n",
       "0            0.578067        0.162926  \n",
       "1            0.958282        0.166241  \n",
       "2            0.982300        0.186955  \n",
       "3            0.980829        0.190405  \n",
       "4            0.936034        0.187827  \n",
       "..                ...             ...  \n",
       "493          0.993333        0.908745  \n",
       "494          0.885596        0.917671  \n",
       "495          0.919573        0.951266  \n",
       "496          0.956751        1.000000  \n",
       "499          0.626397        0.990717  \n",
       "\n",
       "[477 rows x 15 columns]"
      ]
     },
     "execution_count": 162,
     "metadata": {},
     "output_type": "execute_result"
    }
   ],
   "source": [
    "df"
   ]
  },
  {
   "cell_type": "code",
   "execution_count": 163,
   "metadata": {},
   "outputs": [],
   "source": [
    "#df = df.drop(columns=['Date','quarter'])\n",
    "df = df.drop(columns=['Date'])"
   ]
  },
  {
   "cell_type": "markdown",
   "metadata": {},
   "source": [
    "# Feature engineering"
   ]
  },
  {
   "cell_type": "code",
   "execution_count": 164,
   "metadata": {},
   "outputs": [],
   "source": [
    "# Calculate the correlation coefficients between market indicators and stock prices\n",
    "correlation_matrix = df.corr()\n",
    "correlation_with_stock_prices = correlation_matrix['next_day_close'].dropna()\n",
    "relevant_indicators = correlation_with_stock_prices[abs(correlation_with_stock_prices) > 0.5].index.tolist()"
   ]
  },
  {
   "cell_type": "markdown",
   "metadata": {},
   "source": [
    "# Identify relevant indicators"
   ]
  },
  {
   "cell_type": "code",
   "execution_count": 166,
   "metadata": {},
   "outputs": [
    {
     "data": {
      "text/plain": [
       "['Open',\n",
       " 'High',\n",
       " 'Low',\n",
       " 'Close',\n",
       " 'sma_20',\n",
       " 'sma_50',\n",
       " 'rsi',\n",
       " 'macd',\n",
       " 'upper_band',\n",
       " 'middle_band',\n",
       " 'lower_band',\n",
       " 'next_day_close']"
      ]
     },
     "execution_count": 166,
     "metadata": {},
     "output_type": "execute_result"
    }
   ],
   "source": [
    "relevant_indicators"
   ]
  },
  {
   "cell_type": "code",
   "execution_count": 165,
   "metadata": {},
   "outputs": [],
   "source": [
    "import statsmodels.formula.api as sm\n"
   ]
  },
  {
   "cell_type": "markdown",
   "metadata": {},
   "source": [
    "# Train Model"
   ]
  },
  {
   "cell_type": "code",
   "execution_count": 167,
   "metadata": {},
   "outputs": [],
   "source": [
    "# Check for NaN values\n",
    "nan_locations = df.isna().any()\n",
    "\n",
    "# Get the columns with NaN values\n",
    "columns_with_nan = nan_locations[nan_locations].index.tolist()\n",
    "\n",
    "# Get the rows with NaN values\n",
    "rows_with_nan = df[df.isna().any(axis=1)].index.tolist()\n"
   ]
  },
  {
   "cell_type": "code",
   "execution_count": 168,
   "metadata": {},
   "outputs": [],
   "source": [
    "df = df.fillna(0)"
   ]
  },
  {
   "cell_type": "code",
   "execution_count": 169,
   "metadata": {},
   "outputs": [],
   "source": [
    "df = df[relevant_indicators]"
   ]
  },
  {
   "cell_type": "code",
   "execution_count": 170,
   "metadata": {},
   "outputs": [
    {
     "data": {
      "text/html": [
       "<div>\n",
       "<style scoped>\n",
       "    .dataframe tbody tr th:only-of-type {\n",
       "        vertical-align: middle;\n",
       "    }\n",
       "\n",
       "    .dataframe tbody tr th {\n",
       "        vertical-align: top;\n",
       "    }\n",
       "\n",
       "    .dataframe thead th {\n",
       "        text-align: right;\n",
       "    }\n",
       "</style>\n",
       "<table border=\"1\" class=\"dataframe\">\n",
       "  <thead>\n",
       "    <tr style=\"text-align: right;\">\n",
       "      <th></th>\n",
       "      <th>Open</th>\n",
       "      <th>High</th>\n",
       "      <th>Low</th>\n",
       "      <th>Close</th>\n",
       "      <th>sma_20</th>\n",
       "      <th>sma_50</th>\n",
       "      <th>rsi</th>\n",
       "      <th>macd</th>\n",
       "      <th>upper_band</th>\n",
       "      <th>middle_band</th>\n",
       "      <th>lower_band</th>\n",
       "      <th>next_day_close</th>\n",
       "    </tr>\n",
       "  </thead>\n",
       "  <tbody>\n",
       "    <tr>\n",
       "      <th>0</th>\n",
       "      <td>0.125310</td>\n",
       "      <td>0.131944</td>\n",
       "      <td>0.133382</td>\n",
       "      <td>0.144225</td>\n",
       "      <td>0.161428</td>\n",
       "      <td>0.206931</td>\n",
       "      <td>0.336474</td>\n",
       "      <td>0.110745</td>\n",
       "      <td>0.156024</td>\n",
       "      <td>0.161428</td>\n",
       "      <td>0.172987</td>\n",
       "      <td>0.162926</td>\n",
       "    </tr>\n",
       "    <tr>\n",
       "      <th>1</th>\n",
       "      <td>0.148859</td>\n",
       "      <td>0.150143</td>\n",
       "      <td>0.156862</td>\n",
       "      <td>0.162926</td>\n",
       "      <td>0.159988</td>\n",
       "      <td>0.204931</td>\n",
       "      <td>0.448473</td>\n",
       "      <td>0.134797</td>\n",
       "      <td>0.150922</td>\n",
       "      <td>0.159988</td>\n",
       "      <td>0.176952</td>\n",
       "      <td>0.166241</td>\n",
       "    </tr>\n",
       "    <tr>\n",
       "      <th>2</th>\n",
       "      <td>0.156225</td>\n",
       "      <td>0.153003</td>\n",
       "      <td>0.166178</td>\n",
       "      <td>0.166241</td>\n",
       "      <td>0.158732</td>\n",
       "      <td>0.203323</td>\n",
       "      <td>0.466829</td>\n",
       "      <td>0.157060</td>\n",
       "      <td>0.145524</td>\n",
       "      <td>0.158732</td>\n",
       "      <td>0.181805</td>\n",
       "      <td>0.186955</td>\n",
       "    </tr>\n",
       "    <tr>\n",
       "      <th>3</th>\n",
       "      <td>0.164292</td>\n",
       "      <td>0.173163</td>\n",
       "      <td>0.175291</td>\n",
       "      <td>0.186955</td>\n",
       "      <td>0.160133</td>\n",
       "      <td>0.202913</td>\n",
       "      <td>0.571558</td>\n",
       "      <td>0.191393</td>\n",
       "      <td>0.151196</td>\n",
       "      <td>0.160133</td>\n",
       "      <td>0.176906</td>\n",
       "      <td>0.190405</td>\n",
       "    </tr>\n",
       "    <tr>\n",
       "      <th>4</th>\n",
       "      <td>0.184585</td>\n",
       "      <td>0.179968</td>\n",
       "      <td>0.192337</td>\n",
       "      <td>0.190405</td>\n",
       "      <td>0.162360</td>\n",
       "      <td>0.202400</td>\n",
       "      <td>0.587478</td>\n",
       "      <td>0.221173</td>\n",
       "      <td>0.158002</td>\n",
       "      <td>0.162360</td>\n",
       "      <td>0.172374</td>\n",
       "      <td>0.187827</td>\n",
       "    </tr>\n",
       "    <tr>\n",
       "      <th>...</th>\n",
       "      <td>...</td>\n",
       "      <td>...</td>\n",
       "      <td>...</td>\n",
       "      <td>...</td>\n",
       "      <td>...</td>\n",
       "      <td>...</td>\n",
       "      <td>...</td>\n",
       "      <td>...</td>\n",
       "      <td>...</td>\n",
       "      <td>...</td>\n",
       "      <td>...</td>\n",
       "      <td>...</td>\n",
       "    </tr>\n",
       "    <tr>\n",
       "      <th>493</th>\n",
       "      <td>0.820143</td>\n",
       "      <td>0.823732</td>\n",
       "      <td>0.870959</td>\n",
       "      <td>0.872425</td>\n",
       "      <td>0.882800</td>\n",
       "      <td>0.873718</td>\n",
       "      <td>0.826875</td>\n",
       "      <td>0.821426</td>\n",
       "      <td>0.837751</td>\n",
       "      <td>0.882800</td>\n",
       "      <td>0.949699</td>\n",
       "      <td>0.908745</td>\n",
       "    </tr>\n",
       "    <tr>\n",
       "      <th>494</th>\n",
       "      <td>0.869212</td>\n",
       "      <td>0.886710</td>\n",
       "      <td>0.925332</td>\n",
       "      <td>0.908745</td>\n",
       "      <td>0.896537</td>\n",
       "      <td>0.886387</td>\n",
       "      <td>0.877273</td>\n",
       "      <td>0.861806</td>\n",
       "      <td>0.857504</td>\n",
       "      <td>0.896537</td>\n",
       "      <td>0.954512</td>\n",
       "      <td>0.917671</td>\n",
       "    </tr>\n",
       "    <tr>\n",
       "      <th>495</th>\n",
       "      <td>0.882757</td>\n",
       "      <td>0.868056</td>\n",
       "      <td>0.921499</td>\n",
       "      <td>0.917671</td>\n",
       "      <td>0.908514</td>\n",
       "      <td>0.899846</td>\n",
       "      <td>0.888698</td>\n",
       "      <td>0.893003</td>\n",
       "      <td>0.878285</td>\n",
       "      <td>0.908514</td>\n",
       "      <td>0.953461</td>\n",
       "      <td>0.951266</td>\n",
       "    </tr>\n",
       "    <tr>\n",
       "      <th>496</th>\n",
       "      <td>0.915454</td>\n",
       "      <td>0.910395</td>\n",
       "      <td>0.967356</td>\n",
       "      <td>0.951266</td>\n",
       "      <td>0.923260</td>\n",
       "      <td>0.913965</td>\n",
       "      <td>0.928736</td>\n",
       "      <td>0.936110</td>\n",
       "      <td>0.902278</td>\n",
       "      <td>0.923260</td>\n",
       "      <td>0.954514</td>\n",
       "      <td>1.000000</td>\n",
       "    </tr>\n",
       "    <tr>\n",
       "      <th>499</th>\n",
       "      <td>0.896527</td>\n",
       "      <td>0.899574</td>\n",
       "      <td>0.931006</td>\n",
       "      <td>0.915339</td>\n",
       "      <td>0.962217</td>\n",
       "      <td>0.956078</td>\n",
       "      <td>0.658756</td>\n",
       "      <td>0.958367</td>\n",
       "      <td>0.957291</td>\n",
       "      <td>0.962217</td>\n",
       "      <td>0.969639</td>\n",
       "      <td>0.990717</td>\n",
       "    </tr>\n",
       "  </tbody>\n",
       "</table>\n",
       "<p>477 rows × 12 columns</p>\n",
       "</div>"
      ],
      "text/plain": [
       "         Open      High       Low     Close    sma_20    sma_50       rsi  \\\n",
       "0    0.125310  0.131944  0.133382  0.144225  0.161428  0.206931  0.336474   \n",
       "1    0.148859  0.150143  0.156862  0.162926  0.159988  0.204931  0.448473   \n",
       "2    0.156225  0.153003  0.166178  0.166241  0.158732  0.203323  0.466829   \n",
       "3    0.164292  0.173163  0.175291  0.186955  0.160133  0.202913  0.571558   \n",
       "4    0.184585  0.179968  0.192337  0.190405  0.162360  0.202400  0.587478   \n",
       "..        ...       ...       ...       ...       ...       ...       ...   \n",
       "493  0.820143  0.823732  0.870959  0.872425  0.882800  0.873718  0.826875   \n",
       "494  0.869212  0.886710  0.925332  0.908745  0.896537  0.886387  0.877273   \n",
       "495  0.882757  0.868056  0.921499  0.917671  0.908514  0.899846  0.888698   \n",
       "496  0.915454  0.910395  0.967356  0.951266  0.923260  0.913965  0.928736   \n",
       "499  0.896527  0.899574  0.931006  0.915339  0.962217  0.956078  0.658756   \n",
       "\n",
       "         macd  upper_band  middle_band  lower_band  next_day_close  \n",
       "0    0.110745    0.156024     0.161428    0.172987        0.162926  \n",
       "1    0.134797    0.150922     0.159988    0.176952        0.166241  \n",
       "2    0.157060    0.145524     0.158732    0.181805        0.186955  \n",
       "3    0.191393    0.151196     0.160133    0.176906        0.190405  \n",
       "4    0.221173    0.158002     0.162360    0.172374        0.187827  \n",
       "..        ...         ...          ...         ...             ...  \n",
       "493  0.821426    0.837751     0.882800    0.949699        0.908745  \n",
       "494  0.861806    0.857504     0.896537    0.954512        0.917671  \n",
       "495  0.893003    0.878285     0.908514    0.953461        0.951266  \n",
       "496  0.936110    0.902278     0.923260    0.954514        1.000000  \n",
       "499  0.958367    0.957291     0.962217    0.969639        0.990717  \n",
       "\n",
       "[477 rows x 12 columns]"
      ]
     },
     "execution_count": 170,
     "metadata": {},
     "output_type": "execute_result"
    }
   ],
   "source": [
    "df"
   ]
  },
  {
   "cell_type": "markdown",
   "metadata": {},
   "source": [
    "# Check for overfitting"
   ]
  },
  {
   "cell_type": "code",
   "execution_count": 183,
   "metadata": {},
   "outputs": [],
   "source": [
    "from statsmodels.tsa.arima.model import ARIMA\n",
    "from sklearn.metrics import mean_squared_error\n",
    "\n",
    "# Set the window size and step size for cross-validation\n",
    "window_size = 80\n",
    "step_size = 50\n",
    "\n",
    "# Initialize lists to store the performance metrics\n",
    "mse_scores_test = []\n",
    "mse_scores_train = []\n",
    "\n",
    "# Perform rolling window cross-validation\n",
    "for start in range(0, len(df) - window_size + 1, step_size):\n",
    "    end = start + window_size\n",
    "    \n",
    "    # Split the data into training and validation sets\n",
    "    train_data = df.iloc[start:end]\n",
    "    test_data = df.iloc[end:end+step_size]\n",
    "\n",
    "    train_data_endog = train_data['next_day_close']\n",
    "    train_data_exog = train_data.drop(columns='next_day_close')\n",
    "\n",
    "    test_data_endog = test_data['next_day_close']\n",
    "    test_data_exog = test_data.drop(columns='next_day_close')\n",
    "    \n",
    "    # Fit the ARIMAX model\n",
    "    model = ARIMA(endog=train_data_endog, exog=train_data_exog, order=(0, 0, 0))\n",
    "    model_fit = model.fit()\n",
    "\n",
    "    # Make predictions\n",
    "    test_predictions = model_fit.get_forecast(steps=len(test_data), exog=test_data_exog)\n",
    "    train_predictions = model_fit.get_forecast(steps=len(train_data), exog=train_data_exog)\n",
    "\n",
    "    val_predictions_mean = test_predictions.predicted_mean\n",
    "    val_predictions_mean = val_predictions_mean.values.reshape(-1,1)\n",
    "    test_pred = scaler_y.inverse_transform(val_predictions_mean)\n",
    "\n",
    "    test_endo = test_data_endog.values.reshape(-1,1)\n",
    "    test_endo = scaler_y.inverse_transform(test_endo)\n",
    "\n",
    "    train_predictions_mean = train_predictions.predicted_mean\n",
    "    train_pred = train_predictions_mean.values.reshape(-1,1)\n",
    "    train_pred = scaler_y.inverse_transform(train_pred)\n",
    "\n",
    "    train_endo = train_data_endog.values.reshape(-1,1)\n",
    "    train_endo = scaler_y.inverse_transform(train_endo)\n",
    "\n",
    "    #Calculate mean squared error (MSE) as the performance metric\n",
    "    mse_test = mean_squared_error(test_endo, test_pred)\n",
    "    mse_scores_test.append(round(mse_test,4))\n",
    "\n",
    "    mse_train = mean_squared_error(train_endo, train_pred)\n",
    "    mse_scores_train.append(round(mse_train,4))"
   ]
  },
  {
   "cell_type": "code",
   "execution_count": 184,
   "metadata": {},
   "outputs": [
    {
     "data": {
      "text/plain": [
       "[79.4697, 155.2318, 64.2945, 64.6727, 196.6647, 1328.0172, 193.4469, 1636.0136]"
      ]
     },
     "execution_count": 184,
     "metadata": {},
     "output_type": "execute_result"
    }
   ],
   "source": [
    "mse_scores_test"
   ]
  },
  {
   "cell_type": "code",
   "execution_count": 185,
   "metadata": {},
   "outputs": [
    {
     "data": {
      "text/plain": [
       "[65.9753, 33.77, 27.5402, 32.3501, 38.1617, 107.3088, 93.6042, 80.5352]"
      ]
     },
     "execution_count": 185,
     "metadata": {},
     "output_type": "execute_result"
    }
   ],
   "source": [
    "mse_scores_train"
   ]
  },
  {
   "cell_type": "markdown",
   "metadata": {},
   "source": [
    "# Find Best Order"
   ]
  },
  {
   "cell_type": "code",
   "execution_count": 79,
   "metadata": {},
   "outputs": [],
   "source": [
    "train_size = int(len(df) * 0.8)  # 80% for training\n",
    "train_data = df[:train_size]\n",
    "test_data = df[train_size:]"
   ]
  },
  {
   "cell_type": "code",
   "execution_count": 80,
   "metadata": {},
   "outputs": [],
   "source": [
    "train_data_endog = train_data['next_day_close']\n",
    "train_data_exog = train_data.drop(columns='next_day_close')"
   ]
  },
  {
   "cell_type": "code",
   "execution_count": 81,
   "metadata": {},
   "outputs": [],
   "source": [
    "test_data_endog = test_data['next_day_close']\n",
    "test_data_exog = test_data.drop(columns='next_day_close')"
   ]
  },
  {
   "cell_type": "code",
   "execution_count": 64,
   "metadata": {},
   "outputs": [
    {
     "name": "stdout",
     "output_type": "stream",
     "text": [
      "best_order= (0, 0, 0)\n"
     ]
    }
   ],
   "source": [
    "from statsmodels.tsa.stattools import acf, pacf\n",
    "from statsmodels.tsa.arima.model import ARIMA\n",
    "import numpy as np\n",
    "import warnings\n",
    "\n",
    "# Ignore warnings\n",
    "warnings.filterwarnings(\"ignore\")\n",
    "\n",
    "# Specify the range of orders to try\n",
    "p_values = range(3)  # example: try orders (0, 0, 0), (1, 0, 0), and (2, 0, 0)\n",
    "d_values = range(2)  # example: try orders (1, 0, 0) and (1, 1, 0)\n",
    "q_values = range(3)  # example: try orders (1, 0, 0), (1, 0, 1), and (1, 0, 2)\n",
    "\n",
    "best_aic = np.inf\n",
    "best_order = None\n",
    "\n",
    "# Iterate over different orders and select the best model based on AIC\n",
    "for p in p_values:\n",
    "    for d in d_values:\n",
    "        for q in q_values:\n",
    "            try:\n",
    "                model = ARIMA(endog=train_data_endog,exog=train_data_exog, order=(p, d, q))\n",
    "                results = model.fit()\n",
    "                aic = results.aic\n",
    "\n",
    "                if aic < best_aic:\n",
    "                    best_aic = aic\n",
    "                    best_order = (p, d, q)\n",
    "            except:\n",
    "                continue\n",
    "\n",
    "print(\"best_order= {}\".format(best_order))\n",
    "\n",
    "# Create the ARIMA model with selected indicators\n",
    "model = ARIMA(train_data['next_day_close'], order=(p, d, q))\n",
    "results = model.fit()"
   ]
  },
  {
   "cell_type": "markdown",
   "metadata": {},
   "source": [
    "# ARIMA Model Prediction"
   ]
  },
  {
   "cell_type": "code",
   "execution_count": 66,
   "metadata": {},
   "outputs": [
    {
     "name": "stdout",
     "output_type": "stream",
     "text": [
      "0.06287033859571431\n",
      "Accuracy: 0.5652173913043478\n"
     ]
    }
   ],
   "source": [
    "from sklearn.metrics import accuracy_score\n",
    "\n",
    "# Forecast on the test data\n",
    "forecast = results.get_forecast(steps=len(test_data), exog=test_data_exog)\n",
    "\n",
    "# Get the predicted values\n",
    "predicted_values = forecast.predicted_mean\n",
    "\n",
    "\n",
    "print(mean_squared_error(predicted_values, test_data['next_day_close']))\n",
    "# Calculate the price change from the predicted values\n",
    "predicted_price_change = np.diff(predicted_values)\n",
    "\n",
    "# Create a binary target variable indicating if the price change is positive (1) or not (0)\n",
    "predicted_price_up = (predicted_price_change > 0).astype(int)\n",
    "\n",
    "# Calculate the actual price change from the test data\n",
    "actual_price_change = np.diff(test_data['next_day_close'])\n",
    "\n",
    "# Create a binary target variable for the actual price change\n",
    "actual_price_up = (actual_price_change > 0).astype(int)\n",
    "\n",
    "# Calculate the accuracy of the predictions\n",
    "accuracy = accuracy_score(actual_price_up, predicted_price_up)\n",
    "\n",
    "# Print the accuracy\n",
    "print(f\"Accuracy: {accuracy}\")"
   ]
  },
  {
   "cell_type": "markdown",
   "metadata": {},
   "source": [
    "# SARIMA Model"
   ]
  },
  {
   "cell_type": "code",
   "execution_count": 84,
   "metadata": {},
   "outputs": [
    {
     "name": "stdout",
     "output_type": "stream",
     "text": [
      "Accuracy: 0.5368421052631579\n"
     ]
    }
   ],
   "source": [
    "from statsmodels.tsa.statespace.sarimax import SARIMAX\n",
    "from sklearn.metrics import mean_squared_error, mean_absolute_error\n",
    "\n",
    "\n",
    "# Specify the order and seasonal order of the SARIMA model\n",
    "order = (0, 0, 0)  # (p, d, q)\n",
    "seasonal_order = (1, 0, 0, 6)  # (P, D, Q, seasonal_periods)\n",
    "\n",
    "# Create the SARIMA model\n",
    "model = SARIMAX(endog=train_data_endog, exog=train_data_exog, order=order, seasonal_order=seasonal_order)\n",
    "\n",
    "# Fit the SARIMA model\n",
    "results = model.fit()\n",
    "\n",
    "# Forecast on the test data\n",
    "forecast = results.get_forecast(steps=len(test_data), exog=test_data_exog)\n",
    "\n",
    "# Get the predicted mean values\n",
    "predicted_values = forecast.predicted_mean\n",
    "\n",
    "# Calculate the price change from the predicted values\n",
    "predicted_price_change = np.diff(predicted_values)\n",
    "\n",
    "# Create a binary target variable indicating if the price change is positive (1) or not (0)\n",
    "predicted_price_up = (predicted_price_change > 0).astype(int)\n",
    "\n",
    "# Calculate the actual price change from the test data\n",
    "actual_price_change = np.diff(test_data['next_day_close'])\n",
    "\n",
    "# Create a binary target variable for the actual price change\n",
    "actual_price_up = (actual_price_change > 0).astype(int)\n",
    "\n",
    "# Calculate the accuracy of the predictions\n",
    "accuracy = accuracy_score(actual_price_up, predicted_price_up)\n",
    "\n",
    "# Print the accuracy\n",
    "print(f\"Accuracy: {accuracy}\")"
   ]
  },
  {
   "cell_type": "code",
   "execution_count": null,
   "metadata": {},
   "outputs": [],
   "source": []
  }
 ],
 "metadata": {
  "kernelspec": {
   "display_name": "base",
   "language": "python",
   "name": "python3"
  },
  "language_info": {
   "codemirror_mode": {
    "name": "ipython",
    "version": 3
   },
   "file_extension": ".py",
   "mimetype": "text/x-python",
   "name": "python",
   "nbconvert_exporter": "python",
   "pygments_lexer": "ipython3",
   "version": "3.11.5"
  },
  "orig_nbformat": 4
 },
 "nbformat": 4,
 "nbformat_minor": 2
}
